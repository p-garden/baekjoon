{
  "nbformat": 4,
  "nbformat_minor": 0,
  "metadata": {
    "colab": {
      "provenance": [],
      "authorship_tag": "ABX9TyOPxoZYN0OejUHXd3Bt9gqV",
      "include_colab_link": true
    },
    "kernelspec": {
      "name": "python3",
      "display_name": "Python 3"
    },
    "language_info": {
      "name": "python"
    }
  },
  "cells": [
    {
      "cell_type": "markdown",
      "metadata": {
        "id": "view-in-github",
        "colab_type": "text"
      },
      "source": [
        "<a href=\"https://colab.research.google.com/github/p-garden/baekjoon/blob/main/baekjoon.ipynb\" target=\"_parent\"><img src=\"https://colab.research.google.com/assets/colab-badge.svg\" alt=\"Open In Colab\"/></a>"
      ]
    },
    {
      "cell_type": "markdown",
      "source": [
        "# **1541번 잃어버린 괄호**"
      ],
      "metadata": {
        "id": "TjIvvtzdCqrg"
      }
    },
    {
      "cell_type": "code",
      "execution_count": null,
      "metadata": {
        "colab": {
          "base_uri": "https://localhost:8080/"
        },
        "id": "c6qoQVgYCdLI",
        "outputId": "af395b8f-1976-452a-def8-a37e4fd5a065"
      },
      "outputs": [
        {
          "output_type": "stream",
          "name": "stdout",
          "text": [
            "00009-00009\n",
            "0\n"
          ]
        }
      ],
      "source": [
        "exp = input()\n",
        "min_exp = exp.split('-')\n",
        "sum_ = 0 \n",
        "n_list = []\n",
        "for n in min_exp:\n",
        "  num = n.split('+')\n",
        "  num = list(map(int,num))\n",
        "  sum_ = sum(num)\n",
        "  n_list.append(sum_)\n",
        "res = n_list[0]\n",
        "for n in n_list[1:]:\n",
        "  res -= n\n",
        "print(res)"
      ]
    },
    {
      "cell_type": "markdown",
      "source": [
        "# **1026번 보물**"
      ],
      "metadata": {
        "id": "3NPzN-LNCqH0"
      }
    },
    {
      "cell_type": "code",
      "source": [
        "n = int(input())\n",
        "a = input().split()\n",
        "b = input().split()\n",
        "a = list(map(int,a))\n",
        "b = list(map(int,b))\n",
        "a.sort()\n",
        "b.sort(reverse = True)\n",
        "res = 0\n",
        "for i in range(n):\n",
        "  res += a[i] * b[i]\n",
        "print(res)"
      ],
      "metadata": {
        "colab": {
          "base_uri": "https://localhost:8080/"
        },
        "id": "cD54bqLk4psz",
        "outputId": "e402b448-2aef-41a9-ec71-f18dc653a931"
      },
      "execution_count": null,
      "outputs": [
        {
          "output_type": "stream",
          "name": "stdout",
          "text": [
            "9\n",
            "5 15 100 31 39 0 0 3 26\n",
            "11 12 13 2 3 4 5 9 1\n",
            "528\n"
          ]
        }
      ]
    },
    {
      "cell_type": "markdown",
      "source": [
        "# **1789번 수들의 합**"
      ],
      "metadata": {
        "id": "-KpCtrY1-lM7"
      }
    },
    {
      "cell_type": "code",
      "source": [
        "s = int(input())\n",
        "sum = 0\n",
        "n =0 \n",
        "for i in range(1,4294967295):\n",
        "  sum += i\n",
        "  n += 1\n",
        "  if(sum < s):\n",
        "    continue\n",
        "  elif(sum == s):\n",
        "    break\n",
        "  else:\n",
        "    sum -= (i-1)\n",
        "    n -= 1\n",
        "    if sum == s: \n",
        "      break\n",
        "    else:\n",
        "      sum -= i\n",
        "      n -=1\n",
        "print(n)"
      ],
      "metadata": {
        "colab": {
          "base_uri": "https://localhost:8080/"
        },
        "id": "X4syy5Pa5CZY",
        "outputId": "49fcc547-b87d-413f-fb27-9c0ab1a4ef60"
      },
      "execution_count": null,
      "outputs": [
        {
          "output_type": "stream",
          "name": "stdout",
          "text": [
            "50\n",
            "9\n"
          ]
        }
      ]
    },
    {
      "cell_type": "markdown",
      "source": [
        "# **10162번 전자레인지**"
      ],
      "metadata": {
        "id": "M81UXLxSPpZF"
      }
    },
    {
      "cell_type": "code",
      "source": [
        "target_time = int(input())\n",
        "a = 300\n",
        "b = 60 \n",
        "c=10\n",
        "a_t=0\n",
        "b_t=0\n",
        "c_t=0\n",
        "while(target_time>0):\n",
        "  if(target_time % 10 != 0):\n",
        "    break\n",
        "  if(target_time >= a):\n",
        "    while(target_time >= a):\n",
        "      target_time -= a\n",
        "      a_t += 1\n",
        "  elif (target_time >= b):\n",
        "    while(target_time >= b):\n",
        "      target_time -= b\n",
        "      b_t += 1\n",
        "  else:\n",
        "    while(target_time >= c):\n",
        "      target_time -= c\n",
        "      c_t += 1\n",
        "if (a_t ==0 and b_t ==0 and c_t ==0):\n",
        "  print('-1')\n",
        "else:\n",
        "  print('%d %d %d' % (a_t,b_t,c_t))\n"
      ],
      "metadata": {
        "colab": {
          "base_uri": "https://localhost:8080/"
        },
        "id": "HAO3Bj16Puab",
        "outputId": "5a1cb0e1-a7a2-4653-fcca-8678287871f1"
      },
      "execution_count": null,
      "outputs": [
        {
          "output_type": "stream",
          "name": "stdout",
          "text": [
            "320\n",
            "1 0 2\n"
          ]
        }
      ]
    },
    {
      "cell_type": "markdown",
      "source": [
        "# **13305번 주유소**\n"
      ],
      "metadata": {
        "id": "ZcqEBG2BShXH"
      }
    },
    {
      "cell_type": "code",
      "source": [
        "n = int(input())\n",
        "len_con = input().split()\n",
        "price_oil = input().split()\n",
        "\n",
        "len_con = list(map(int, len_con))\n",
        "price_oil = list(map(int, price_oil))\n",
        "\n",
        "c = price_oil[0]\n",
        "res =0\n",
        "\n",
        "for i in range(n-1):\n",
        "  if (c > price_oil[i]):\n",
        "    c = price_oil[i]\n",
        "  res += c * len_con[i]\n",
        "print(res)"
      ],
      "metadata": {
        "colab": {
          "base_uri": "https://localhost:8080/"
        },
        "id": "Wb7xtJZX_cox",
        "outputId": "86d95673-d95f-461d-8785-558d40a1a094"
      },
      "execution_count": null,
      "outputs": [
        {
          "output_type": "stream",
          "name": "stdout",
          "text": [
            "4\n",
            "3 3 4\n",
            "1 1 1 1\n",
            "10\n"
          ]
        }
      ]
    },
    {
      "cell_type": "markdown",
      "source": [
        "# **10610번 30**"
      ],
      "metadata": {
        "id": "bOzZu6mAS928"
      }
    },
    {
      "cell_type": "code",
      "source": [
        "n = input()\n",
        "sum_ = sum(list(map(int,n)))\n",
        "rst = 0 \n",
        "if (('0' not in n) or(sum_ % 3 != 0)):\n",
        "  rst=-1\n",
        "else:\n",
        "  n=list(n)\n",
        "  n.sort(reverse = True)\n",
        "  rst= int(\"\".join(n))\n",
        "print(rst)"
      ],
      "metadata": {
        "colab": {
          "base_uri": "https://localhost:8080/"
        },
        "id": "pFkAXtQSZ0kE",
        "outputId": "15035f02-bc71-4c33-dd2c-c9f17e41b4cd"
      },
      "execution_count": null,
      "outputs": [
        {
          "output_type": "stream",
          "name": "stdout",
          "text": [
            "-1\n"
          ]
        }
      ]
    },
    {
      "cell_type": "markdown",
      "source": [
        "# **1715번 카드 정렬하기**"
      ],
      "metadata": {
        "id": "UlGtMN95_xDQ"
      }
    },
    {
      "cell_type": "code",
      "source": [
        "import numpy as np\n",
        "n = int(input())\n",
        "card_list = [input() for _ in range(n)]\n",
        "card_list = list(map(int, card_list))\n",
        "card_list.sort()\n",
        "sum_card=[]\n",
        "sum_card.append(card_list[0])\n",
        "for i in range(1,n):\n",
        "  sum_card.append(sum_card[i-1] + card_list[i])\n",
        "print(np.sum(sum_card) - card_list[0])\n",
        "\n",
        "# 틀린 답\n"
      ],
      "metadata": {
        "colab": {
          "base_uri": "https://localhost:8080/"
        },
        "id": "QsIr4EeV_wct",
        "outputId": "6ba0310f-594b-4876-96cf-be12c12df6c6"
      },
      "execution_count": null,
      "outputs": [
        {
          "output_type": "stream",
          "name": "stdout",
          "text": [
            "5\n",
            "10\n",
            "10\n",
            "10\n",
            "10\n",
            "10\n",
            "140\n"
          ]
        }
      ]
    },
    {
      "cell_type": "markdown",
      "source": [
        "# **1463번 1로 만들기**"
      ],
      "metadata": {
        "id": "hmWwZth24ZQ7"
      }
    },
    {
      "cell_type": "code",
      "source": [
        "import time\n",
        "from datetime import timedelta\n",
        "start = time.process_time()\n",
        "x = int(input())\n",
        "pro=[]\n",
        "pre_pro = []\n",
        "pre_pro.append(x)\n",
        "trial=0\n",
        "while(1):\n",
        "  for j in range(len(pre_pro)):\n",
        "    cur = pre_pro[j]\n",
        "    if (cur % 3 ==0):\n",
        "      pro.append(cur // 3)\n",
        "      if(1 in pro):\n",
        "        break\n",
        "    if (cur % 2 ==0):\n",
        "      pro.append(cur // 2)\n",
        "      if(1 in pro):\n",
        "        break\n",
        "    pro.append(cur -1)\n",
        "  trial += 1\n",
        "  if(1 in pro):\n",
        "    break\n",
        "  pre_pro = pro\n",
        "  pro = []\n",
        "end = time.process_time()\n",
        "print(end - start)\n",
        "print(trial)\n",
        "# 틀린 방법\n"
      ],
      "metadata": {
        "colab": {
          "base_uri": "https://localhost:8080/"
        },
        "id": "E-iS0bgK4ffO",
        "outputId": "f0041e0a-4b9c-40e2-914a-e657755e1cd5"
      },
      "execution_count": null,
      "outputs": [
        {
          "output_type": "stream",
          "name": "stdout",
          "text": [
            "892381\n",
            "5.467321396000017\n",
            "18\n"
          ]
        }
      ]
    },
    {
      "cell_type": "code",
      "source": [
        "n = int(input())\n",
        "count = [0] * 1000001\n",
        "count[2]=1\n",
        "count[3] = 1\n",
        "\n",
        "for i in  range(2,n+1):\n",
        "  a = 1000000\n",
        "  if (i % 3 ==0):\n",
        "    a = count[i//3] +1\n",
        "  b = 1000000\n",
        "  if (i % 2==0):\n",
        "    b = count[i//2] +1\n",
        "  c = count[i-1] +1\n",
        "  count[i] = min(a,b,c)\n",
        "\n",
        "print(count[n])\n",
        "# 맞는 방법 (리스트에 각 숫자의 최소도달값 저장) (새로운 값 구할 때 이전의 값 이용)"
      ],
      "metadata": {
        "colab": {
          "base_uri": "https://localhost:8080/"
        },
        "id": "fr7WF8WS4gpT",
        "outputId": "224971d4-00cb-4532-ac1a-ca0d0ff818f7"
      },
      "execution_count": null,
      "outputs": [
        {
          "output_type": "stream",
          "name": "stdout",
          "text": [
            "11\n",
            "4\n"
          ]
        }
      ]
    },
    {
      "cell_type": "markdown",
      "source": [
        "# **2839번 설탕 배달**"
      ],
      "metadata": {
        "id": "TV01pjWKLASq"
      }
    },
    {
      "cell_type": "code",
      "source": [
        "n = int(input())\n",
        "prt=0\n",
        "while (n):\n",
        "  if n <3:\n",
        "    print('-1')\n",
        "    break\n",
        "  if n % 5 == 0:\n",
        "    prt += n // 5\n",
        "    n -= ((n//5)*5)\n",
        "    break\n",
        "  n -= 3\n",
        "  prt += 1\n",
        "if(n==0):\n",
        "  print(prt)"
      ],
      "metadata": {
        "id": "DD1YwYlC4g7k",
        "colab": {
          "base_uri": "https://localhost:8080/"
        },
        "outputId": "ce811711-4629-4f2f-b11b-254ba4a9bdb0"
      },
      "execution_count": null,
      "outputs": [
        {
          "output_type": "stream",
          "name": "stdout",
          "text": [
            "11\n",
            "3\n"
          ]
        }
      ]
    },
    {
      "cell_type": "markdown",
      "source": [
        "# **9095번: 1,2,3 더하기**"
      ],
      "metadata": {
        "id": "eML7USdSaXeK"
      }
    },
    {
      "cell_type": "code",
      "source": [
        "n = int(input())\n",
        "num_list=[]\n",
        "cnt = [0] * 10\n",
        "\n",
        "for _ in range(n):\n",
        "  num = int(input())\n",
        "  num_list.append(num)\n",
        "cnt[0] = 1\n",
        "cnt[1] = 2\n",
        "cnt[2] = 4\n",
        "for i in range(3,10):\n",
        "  cnt[i] = cnt[i-1] + cnt[i-2] + cnt[i-3]\n",
        "\n",
        "for i in range(n):\n",
        "  print(cnt[num_list[i]-1]) "
      ],
      "metadata": {
        "colab": {
          "base_uri": "https://localhost:8080/"
        },
        "id": "5C8sqhP4acCk",
        "outputId": "f86f3341-bbce-4ed4-e3c4-b65b1da4d5bf"
      },
      "execution_count": null,
      "outputs": [
        {
          "output_type": "stream",
          "name": "stdout",
          "text": [
            "3\n",
            "4\n",
            "7\n",
            "10\n",
            "7\n",
            "44\n",
            "274\n"
          ]
        }
      ]
    },
    {
      "cell_type": "markdown",
      "source": [
        "# **11726번: 2xn 타일링**"
      ],
      "metadata": {
        "id": "GJqa-hBFc0Un"
      }
    },
    {
      "cell_type": "code",
      "source": [
        "n =int(input())\n",
        "tile = [0]*1001\n",
        "tile[1] =1\n",
        "tile[2] = 2\n",
        "for i in range(3,1001):\n",
        "  tile[i] = tile[i-1] + tile[i-2]\n",
        "\n",
        "print(tile[n] % 10007)"
      ],
      "metadata": {
        "colab": {
          "base_uri": "https://localhost:8080/"
        },
        "id": "gfNvK8VRSKR_",
        "outputId": "a7de5bda-a423-4a46-d6ba-9be11fbb7a0b"
      },
      "execution_count": null,
      "outputs": [
        {
          "output_type": "stream",
          "name": "stdout",
          "text": [
            "6\n",
            "13\n"
          ]
        }
      ]
    },
    {
      "cell_type": "markdown",
      "source": [
        "# **1149번: RGB거리** 포기"
      ],
      "metadata": {
        "id": "2J_0l5X1WsGb"
      }
    },
    {
      "cell_type": "code",
      "source": [
        "import numpy as np\n",
        "n = int(input())\n",
        "rgb = []\n",
        "ind_list=[]\n",
        "cost = 0\n",
        "for i in  range(n):\n",
        "  list_ = list(map(int, input().split()))\n",
        "  rgb.append(list_)\n",
        "rgb = np.array(rgb)\n",
        "min_ind = 3\n",
        "for i in range(n):\n",
        "  if (min_ind != np.argmin(rgb[i])):\n",
        "    min_ind = np.argmin(rgb[i])\n",
        "    cost += rgb[i][min_ind]\n",
        "  else:\n",
        "    pre = rgb[i][np.argmin(rgb[i])]\n",
        "    rgb[i][np.argmin(rgb[i])] = 1000\n",
        "    if (pre+ )\n",
        "    min_ind = np.argmin(rgb[i]) \n",
        "    cost += rgb[i][min_ind]\n",
        "  ind_list.append(min_ind)\n",
        "  print(cost)\n",
        "\n",
        "print(cost) "
      ],
      "metadata": {
        "colab": {
          "base_uri": "https://localhost:8080/"
        },
        "id": "xOIzru2LWw2M",
        "outputId": "57d5a7ed-9054-4eec-cd1d-bb41c643de4b"
      },
      "execution_count": null,
      "outputs": [
        {
          "output_type": "stream",
          "name": "stdout",
          "text": [
            "3\n",
            "1 100 100\n",
            "100 100 100\n",
            "1 100 100\n",
            "1\n",
            "101\n",
            "102\n",
            "102\n"
          ]
        }
      ]
    },
    {
      "cell_type": "markdown",
      "source": [
        "# **2579번: 계단 오르기**"
      ],
      "metadata": {
        "id": "Dr5WVTPUZ_Hn"
      }
    },
    {
      "cell_type": "code",
      "source": [
        "n = int(input())\n",
        "sco = [int(input()) for _ in range(n)]\n",
        "stair = [0] *n\n",
        "if n <=2:\n",
        "  print(sum(sco))\n",
        "else:\n",
        "  stair[0] = sco[0]\n",
        "  stair[1] = sco[0] + sco[1]\n",
        "  for i in range(2,n):\n",
        "    stair[i]=max(stair[i-3] + sco[i-1]+sco[i], stair[i-2]+sco[i])\n",
        "  print(stair[-1])"
      ],
      "metadata": {
        "id": "jTUEMBezWxJp",
        "colab": {
          "base_uri": "https://localhost:8080/"
        },
        "outputId": "a0eb5ac8-bd0b-4345-c9bf-6475bb86048d"
      },
      "execution_count": null,
      "outputs": [
        {
          "output_type": "stream",
          "name": "stdout",
          "text": [
            "3\n",
            "10\n",
            "20\n",
            "30\n",
            "50\n"
          ]
        }
      ]
    },
    {
      "cell_type": "markdown",
      "source": [
        "# **11053: 가장 긴 증가하는 부분 수열**"
      ],
      "metadata": {
        "id": "2Bom1pbB_sMs"
      }
    },
    {
      "cell_type": "code",
      "source": [
        "n = int(input())\n",
        "seq = input().split()\n",
        "seq = list(map(int,seq))\n",
        "len_seq = [1]*n\n",
        "\n",
        "for i in range(1,n):\n",
        "  for j in range(i):\n",
        "    if (seq[i] > seq[j]):\n",
        "      len_seq[i] = max(len_seq[j] +1,len_seq[i])\n",
        "\n",
        "print(max(len_seq))"
      ],
      "metadata": {
        "colab": {
          "base_uri": "https://localhost:8080/"
        },
        "id": "v1a1ZaVK_xvk",
        "outputId": "1fc7738a-2594-435e-ea70-8dd2935a793a"
      },
      "execution_count": null,
      "outputs": [
        {
          "output_type": "stream",
          "name": "stdout",
          "text": [
            "6\n",
            "10 20 10 30 20 50\n",
            "4\n"
          ]
        }
      ]
    },
    {
      "cell_type": "markdown",
      "source": [
        "# **1010: 다리 놓기**"
      ],
      "metadata": {
        "id": "ht3RdUfixy0U"
      }
    },
    {
      "cell_type": "code",
      "source": [
        "import math\n",
        "n = int(input())\n",
        "bri =[]\n",
        "for i in range(n):\n",
        "  a,b = input().split()\n",
        "  a = int(a)\n",
        "  b=int(b)\n",
        "  pre = math.factorial(b) // (math.factorial(a) * math.factorial(b-a))\n",
        "  bri.append(pre)\n",
        "\n",
        "for i in range(len(bri)):\n",
        "  print(bri[i])"
      ],
      "metadata": {
        "colab": {
          "base_uri": "https://localhost:8080/"
        },
        "id": "wNo6DCtNx3L0",
        "outputId": "ac481117-f542-4d42-8962-4f95eb54077b"
      },
      "execution_count": null,
      "outputs": [
        {
          "output_type": "stream",
          "name": "stdout",
          "text": [
            "3\n",
            "2 2 \n",
            "1 5\n",
            "13 29\n",
            "1\n",
            "5\n",
            "67863915\n"
          ]
        }
      ]
    },
    {
      "cell_type": "markdown",
      "source": [
        "# **2193: 이친수**"
      ],
      "metadata": {
        "id": "DXfSt2AUFYzG"
      }
    },
    {
      "cell_type": "code",
      "source": [
        "n = int(input())\n",
        "bin = [0]*90\n",
        "bin[0] =1\n",
        "bin[1] =1\n",
        "for i in range(2,90):\n",
        "  bin[i] = bin[i-1] + bin[i-2]\n",
        "\n",
        "print(bin[n-1])"
      ],
      "metadata": {
        "colab": {
          "base_uri": "https://localhost:8080/"
        },
        "id": "5fQ-mBL7DSBb",
        "outputId": "5cba97e2-e9e5-48cd-c9e1-0b0cf818d24b"
      },
      "execution_count": null,
      "outputs": [
        {
          "output_type": "stream",
          "name": "stdout",
          "text": [
            "3\n",
            "2\n"
          ]
        }
      ]
    },
    {
      "cell_type": "markdown",
      "source": [
        "# **14501: 퇴사**"
      ],
      "metadata": {
        "id": "G7_cpLTX--Fs"
      }
    },
    {
      "cell_type": "code",
      "source": [
        "n =int(input())\n",
        "money=[]\n",
        "day=[]\n",
        "for i in range(n):\n",
        "  d,m = input().split()\n",
        "  day.append(int(d))\n",
        "  money.append(int(m))\n",
        "\n",
        "max_pro=[0]*16\n",
        "\n",
        "for i in range(n-1,-1,-1):\n",
        "  if day[i]+i > n:\n",
        "    max_pro[i] = max_pro[i+1]\n",
        "  else:\n",
        "    max_pro[i] = max(max_pro[i+1], money[i]+ max_pro[i+day[i]])\n",
        "\n",
        "print(max_pro[0])"
      ],
      "metadata": {
        "colab": {
          "base_uri": "https://localhost:8080/"
        },
        "id": "7RPas5HU_Bid",
        "outputId": "564ae232-b7ed-4fde-da99-48461571d248"
      },
      "execution_count": null,
      "outputs": [
        {
          "output_type": "stream",
          "name": "stdout",
          "text": [
            "7\n",
            "3 10\n",
            "5 20\n",
            "1 10\n",
            "1 20\n",
            "2 15\n",
            "4 40\n",
            "2 200\n",
            "45\n"
          ]
        }
      ]
    },
    {
      "cell_type": "markdown",
      "source": [
        "# **4673: 셀프 넘버**"
      ],
      "metadata": {
        "id": "9Cg24q2rIGcU"
      }
    },
    {
      "cell_type": "code",
      "source": [
        "seq=[0]*10000\n",
        "for i in range(10000):\n",
        "  seq[i] += (i+1)\n",
        "  j= i+1\n",
        "  while(j):\n",
        "    seq[i] += j % 10\n",
        "    j //= 10\n",
        "\n",
        "for i in range(1,10001):\n",
        "  if i not in seq:\n",
        "     print(i)"
      ],
      "metadata": {
        "colab": {
          "base_uri": "https://localhost:8080/"
        },
        "id": "hziGAPMSIHGR",
        "outputId": "6e85c837-22f1-407f-b0d9-473e42e0ea2d"
      },
      "execution_count": 29,
      "outputs": [
        {
          "output_type": "stream",
          "name": "stdout",
          "text": [
            "1\n",
            "3\n",
            "5\n",
            "7\n",
            "9\n",
            "20\n",
            "31\n",
            "42\n",
            "53\n",
            "64\n",
            "75\n",
            "86\n",
            "97\n",
            "108\n",
            "110\n",
            "121\n",
            "132\n",
            "143\n",
            "154\n",
            "165\n",
            "176\n",
            "187\n",
            "198\n",
            "209\n",
            "211\n",
            "222\n",
            "233\n",
            "244\n",
            "255\n",
            "266\n",
            "277\n",
            "288\n",
            "299\n",
            "310\n",
            "312\n",
            "323\n",
            "334\n",
            "345\n",
            "356\n",
            "367\n",
            "378\n",
            "389\n",
            "400\n",
            "411\n",
            "413\n",
            "424\n",
            "435\n",
            "446\n",
            "457\n",
            "468\n",
            "479\n",
            "490\n",
            "501\n",
            "512\n",
            "514\n",
            "525\n",
            "536\n",
            "547\n",
            "558\n",
            "569\n",
            "580\n",
            "591\n",
            "602\n",
            "613\n",
            "615\n",
            "626\n",
            "637\n",
            "648\n",
            "659\n",
            "670\n",
            "681\n",
            "692\n",
            "703\n",
            "714\n",
            "716\n",
            "727\n",
            "738\n",
            "749\n",
            "760\n",
            "771\n",
            "782\n",
            "793\n",
            "804\n",
            "815\n",
            "817\n",
            "828\n",
            "839\n",
            "850\n",
            "861\n",
            "872\n",
            "883\n",
            "894\n",
            "905\n",
            "916\n",
            "918\n",
            "929\n",
            "940\n",
            "951\n",
            "962\n",
            "973\n",
            "984\n",
            "995\n",
            "1006\n",
            "1021\n",
            "1032\n",
            "1043\n",
            "1054\n",
            "1065\n",
            "1076\n",
            "1087\n",
            "1098\n",
            "1109\n",
            "1111\n",
            "1122\n",
            "1133\n",
            "1144\n",
            "1155\n",
            "1166\n",
            "1177\n",
            "1188\n",
            "1199\n",
            "1210\n",
            "1212\n",
            "1223\n",
            "1234\n",
            "1245\n",
            "1256\n",
            "1267\n",
            "1278\n",
            "1289\n",
            "1300\n",
            "1311\n",
            "1313\n",
            "1324\n",
            "1335\n",
            "1346\n",
            "1357\n",
            "1368\n",
            "1379\n",
            "1390\n",
            "1401\n",
            "1412\n",
            "1414\n",
            "1425\n",
            "1436\n",
            "1447\n",
            "1458\n",
            "1469\n",
            "1480\n",
            "1491\n",
            "1502\n",
            "1513\n",
            "1515\n",
            "1526\n",
            "1537\n",
            "1548\n",
            "1559\n",
            "1570\n",
            "1581\n",
            "1592\n",
            "1603\n",
            "1614\n",
            "1616\n",
            "1627\n",
            "1638\n",
            "1649\n",
            "1660\n",
            "1671\n",
            "1682\n",
            "1693\n",
            "1704\n",
            "1715\n",
            "1717\n",
            "1728\n",
            "1739\n",
            "1750\n",
            "1761\n",
            "1772\n",
            "1783\n",
            "1794\n",
            "1805\n",
            "1816\n",
            "1818\n",
            "1829\n",
            "1840\n",
            "1851\n",
            "1862\n",
            "1873\n",
            "1884\n",
            "1895\n",
            "1906\n",
            "1917\n",
            "1919\n",
            "1930\n",
            "1941\n",
            "1952\n",
            "1963\n",
            "1974\n",
            "1985\n",
            "1996\n",
            "2007\n",
            "2022\n",
            "2033\n",
            "2044\n",
            "2055\n",
            "2066\n",
            "2077\n",
            "2088\n",
            "2099\n",
            "2110\n",
            "2112\n",
            "2123\n",
            "2134\n",
            "2145\n",
            "2156\n",
            "2167\n",
            "2178\n",
            "2189\n",
            "2200\n",
            "2211\n",
            "2213\n",
            "2224\n",
            "2235\n",
            "2246\n",
            "2257\n",
            "2268\n",
            "2279\n",
            "2290\n",
            "2301\n",
            "2312\n",
            "2314\n",
            "2325\n",
            "2336\n",
            "2347\n",
            "2358\n",
            "2369\n",
            "2380\n",
            "2391\n",
            "2402\n",
            "2413\n",
            "2415\n",
            "2426\n",
            "2437\n",
            "2448\n",
            "2459\n",
            "2470\n",
            "2481\n",
            "2492\n",
            "2503\n",
            "2514\n",
            "2516\n",
            "2527\n",
            "2538\n",
            "2549\n",
            "2560\n",
            "2571\n",
            "2582\n",
            "2593\n",
            "2604\n",
            "2615\n",
            "2617\n",
            "2628\n",
            "2639\n",
            "2650\n",
            "2661\n",
            "2672\n",
            "2683\n",
            "2694\n",
            "2705\n",
            "2716\n",
            "2718\n",
            "2729\n",
            "2740\n",
            "2751\n",
            "2762\n",
            "2773\n",
            "2784\n",
            "2795\n",
            "2806\n",
            "2817\n",
            "2819\n",
            "2830\n",
            "2841\n",
            "2852\n",
            "2863\n",
            "2874\n",
            "2885\n",
            "2896\n",
            "2907\n",
            "2918\n",
            "2920\n",
            "2931\n",
            "2942\n",
            "2953\n",
            "2964\n",
            "2975\n",
            "2986\n",
            "2997\n",
            "3008\n",
            "3023\n",
            "3034\n",
            "3045\n",
            "3056\n",
            "3067\n",
            "3078\n",
            "3089\n",
            "3100\n",
            "3111\n",
            "3113\n",
            "3124\n",
            "3135\n",
            "3146\n",
            "3157\n",
            "3168\n",
            "3179\n",
            "3190\n",
            "3201\n",
            "3212\n",
            "3214\n",
            "3225\n",
            "3236\n",
            "3247\n",
            "3258\n",
            "3269\n",
            "3280\n",
            "3291\n",
            "3302\n",
            "3313\n",
            "3315\n",
            "3326\n",
            "3337\n",
            "3348\n",
            "3359\n",
            "3370\n",
            "3381\n",
            "3392\n",
            "3403\n",
            "3414\n",
            "3416\n",
            "3427\n",
            "3438\n",
            "3449\n",
            "3460\n",
            "3471\n",
            "3482\n",
            "3493\n",
            "3504\n",
            "3515\n",
            "3517\n",
            "3528\n",
            "3539\n",
            "3550\n",
            "3561\n",
            "3572\n",
            "3583\n",
            "3594\n",
            "3605\n",
            "3616\n",
            "3618\n",
            "3629\n",
            "3640\n",
            "3651\n",
            "3662\n",
            "3673\n",
            "3684\n",
            "3695\n",
            "3706\n",
            "3717\n",
            "3719\n",
            "3730\n",
            "3741\n",
            "3752\n",
            "3763\n",
            "3774\n",
            "3785\n",
            "3796\n",
            "3807\n",
            "3818\n",
            "3820\n",
            "3831\n",
            "3842\n",
            "3853\n",
            "3864\n",
            "3875\n",
            "3886\n",
            "3897\n",
            "3908\n",
            "3919\n",
            "3921\n",
            "3932\n",
            "3943\n",
            "3954\n",
            "3965\n",
            "3976\n",
            "3987\n",
            "3998\n",
            "4009\n",
            "4024\n",
            "4035\n",
            "4046\n",
            "4057\n",
            "4068\n",
            "4079\n",
            "4090\n",
            "4101\n",
            "4112\n",
            "4114\n",
            "4125\n",
            "4136\n",
            "4147\n",
            "4158\n",
            "4169\n",
            "4180\n",
            "4191\n",
            "4202\n",
            "4213\n",
            "4215\n",
            "4226\n",
            "4237\n",
            "4248\n",
            "4259\n",
            "4270\n",
            "4281\n",
            "4292\n",
            "4303\n",
            "4314\n",
            "4316\n",
            "4327\n",
            "4338\n",
            "4349\n",
            "4360\n",
            "4371\n",
            "4382\n",
            "4393\n",
            "4404\n",
            "4415\n",
            "4417\n",
            "4428\n",
            "4439\n",
            "4450\n",
            "4461\n",
            "4472\n",
            "4483\n",
            "4494\n",
            "4505\n",
            "4516\n",
            "4518\n",
            "4529\n",
            "4540\n",
            "4551\n",
            "4562\n",
            "4573\n",
            "4584\n",
            "4595\n",
            "4606\n",
            "4617\n",
            "4619\n",
            "4630\n",
            "4641\n",
            "4652\n",
            "4663\n",
            "4674\n",
            "4685\n",
            "4696\n",
            "4707\n",
            "4718\n",
            "4720\n",
            "4731\n",
            "4742\n",
            "4753\n",
            "4764\n",
            "4775\n",
            "4786\n",
            "4797\n",
            "4808\n",
            "4819\n",
            "4821\n",
            "4832\n",
            "4843\n",
            "4854\n",
            "4865\n",
            "4876\n",
            "4887\n",
            "4898\n",
            "4909\n",
            "4920\n",
            "4922\n",
            "4933\n",
            "4944\n",
            "4955\n",
            "4966\n",
            "4977\n",
            "4988\n",
            "4999\n",
            "5010\n",
            "5025\n",
            "5036\n",
            "5047\n",
            "5058\n",
            "5069\n",
            "5080\n",
            "5091\n",
            "5102\n",
            "5113\n",
            "5115\n",
            "5126\n",
            "5137\n",
            "5148\n",
            "5159\n",
            "5170\n",
            "5181\n",
            "5192\n",
            "5203\n",
            "5214\n",
            "5216\n",
            "5227\n",
            "5238\n",
            "5249\n",
            "5260\n",
            "5271\n",
            "5282\n",
            "5293\n",
            "5304\n",
            "5315\n",
            "5317\n",
            "5328\n",
            "5339\n",
            "5350\n",
            "5361\n",
            "5372\n",
            "5383\n",
            "5394\n",
            "5405\n",
            "5416\n",
            "5418\n",
            "5429\n",
            "5440\n",
            "5451\n",
            "5462\n",
            "5473\n",
            "5484\n",
            "5495\n",
            "5506\n",
            "5517\n",
            "5519\n",
            "5530\n",
            "5541\n",
            "5552\n",
            "5563\n",
            "5574\n",
            "5585\n",
            "5596\n",
            "5607\n",
            "5618\n",
            "5620\n",
            "5631\n",
            "5642\n",
            "5653\n",
            "5664\n",
            "5675\n",
            "5686\n",
            "5697\n",
            "5708\n",
            "5719\n",
            "5721\n",
            "5732\n",
            "5743\n",
            "5754\n",
            "5765\n",
            "5776\n",
            "5787\n",
            "5798\n",
            "5809\n",
            "5820\n",
            "5822\n",
            "5833\n",
            "5844\n",
            "5855\n",
            "5866\n",
            "5877\n",
            "5888\n",
            "5899\n",
            "5910\n",
            "5921\n",
            "5923\n",
            "5934\n",
            "5945\n",
            "5956\n",
            "5967\n",
            "5978\n",
            "5989\n",
            "6000\n",
            "6011\n",
            "6026\n",
            "6037\n",
            "6048\n",
            "6059\n",
            "6070\n",
            "6081\n",
            "6092\n",
            "6103\n",
            "6114\n",
            "6116\n",
            "6127\n",
            "6138\n",
            "6149\n",
            "6160\n",
            "6171\n",
            "6182\n",
            "6193\n",
            "6204\n",
            "6215\n",
            "6217\n",
            "6228\n",
            "6239\n",
            "6250\n",
            "6261\n",
            "6272\n",
            "6283\n",
            "6294\n",
            "6305\n",
            "6316\n",
            "6318\n",
            "6329\n",
            "6340\n",
            "6351\n",
            "6362\n",
            "6373\n",
            "6384\n",
            "6395\n",
            "6406\n",
            "6417\n",
            "6419\n",
            "6430\n",
            "6441\n",
            "6452\n",
            "6463\n",
            "6474\n",
            "6485\n",
            "6496\n",
            "6507\n",
            "6518\n",
            "6520\n",
            "6531\n",
            "6542\n",
            "6553\n",
            "6564\n",
            "6575\n",
            "6586\n",
            "6597\n",
            "6608\n",
            "6619\n",
            "6621\n",
            "6632\n",
            "6643\n",
            "6654\n",
            "6665\n",
            "6676\n",
            "6687\n",
            "6698\n",
            "6709\n",
            "6720\n",
            "6722\n",
            "6733\n",
            "6744\n",
            "6755\n",
            "6766\n",
            "6777\n",
            "6788\n",
            "6799\n",
            "6810\n",
            "6821\n",
            "6823\n",
            "6834\n",
            "6845\n",
            "6856\n",
            "6867\n",
            "6878\n",
            "6889\n",
            "6900\n",
            "6911\n",
            "6922\n",
            "6924\n",
            "6935\n",
            "6946\n",
            "6957\n",
            "6968\n",
            "6979\n",
            "6990\n",
            "7001\n",
            "7012\n",
            "7027\n",
            "7038\n",
            "7049\n",
            "7060\n",
            "7071\n",
            "7082\n",
            "7093\n",
            "7104\n",
            "7115\n",
            "7117\n",
            "7128\n",
            "7139\n",
            "7150\n",
            "7161\n",
            "7172\n",
            "7183\n",
            "7194\n",
            "7205\n",
            "7216\n",
            "7218\n",
            "7229\n",
            "7240\n",
            "7251\n",
            "7262\n",
            "7273\n",
            "7284\n",
            "7295\n",
            "7306\n",
            "7317\n",
            "7319\n",
            "7330\n",
            "7341\n",
            "7352\n",
            "7363\n",
            "7374\n",
            "7385\n",
            "7396\n",
            "7407\n",
            "7418\n",
            "7420\n",
            "7431\n",
            "7442\n",
            "7453\n",
            "7464\n",
            "7475\n",
            "7486\n",
            "7497\n",
            "7508\n",
            "7519\n",
            "7521\n",
            "7532\n",
            "7543\n",
            "7554\n",
            "7565\n",
            "7576\n",
            "7587\n",
            "7598\n",
            "7609\n",
            "7620\n",
            "7622\n",
            "7633\n",
            "7644\n",
            "7655\n",
            "7666\n",
            "7677\n",
            "7688\n",
            "7699\n",
            "7710\n",
            "7721\n",
            "7723\n",
            "7734\n",
            "7745\n",
            "7756\n",
            "7767\n",
            "7778\n",
            "7789\n",
            "7800\n",
            "7811\n",
            "7822\n",
            "7824\n",
            "7835\n",
            "7846\n",
            "7857\n",
            "7868\n",
            "7879\n",
            "7890\n",
            "7901\n",
            "7912\n",
            "7923\n",
            "7925\n",
            "7936\n",
            "7947\n",
            "7958\n",
            "7969\n",
            "7980\n",
            "7991\n",
            "8002\n",
            "8013\n",
            "8028\n",
            "8039\n",
            "8050\n",
            "8061\n",
            "8072\n",
            "8083\n",
            "8094\n",
            "8105\n",
            "8116\n",
            "8118\n",
            "8129\n",
            "8140\n",
            "8151\n",
            "8162\n",
            "8173\n",
            "8184\n",
            "8195\n",
            "8206\n",
            "8217\n",
            "8219\n",
            "8230\n",
            "8241\n",
            "8252\n",
            "8263\n",
            "8274\n",
            "8285\n",
            "8296\n",
            "8307\n",
            "8318\n",
            "8320\n",
            "8331\n",
            "8342\n",
            "8353\n",
            "8364\n",
            "8375\n",
            "8386\n",
            "8397\n",
            "8408\n",
            "8419\n",
            "8421\n",
            "8432\n",
            "8443\n",
            "8454\n",
            "8465\n",
            "8476\n",
            "8487\n",
            "8498\n",
            "8509\n",
            "8520\n",
            "8522\n",
            "8533\n",
            "8544\n",
            "8555\n",
            "8566\n",
            "8577\n",
            "8588\n",
            "8599\n",
            "8610\n",
            "8621\n",
            "8623\n",
            "8634\n",
            "8645\n",
            "8656\n",
            "8667\n",
            "8678\n",
            "8689\n",
            "8700\n",
            "8711\n",
            "8722\n",
            "8724\n",
            "8735\n",
            "8746\n",
            "8757\n",
            "8768\n",
            "8779\n",
            "8790\n",
            "8801\n",
            "8812\n",
            "8823\n",
            "8825\n",
            "8836\n",
            "8847\n",
            "8858\n",
            "8869\n",
            "8880\n",
            "8891\n",
            "8902\n",
            "8913\n",
            "8924\n",
            "8926\n",
            "8937\n",
            "8948\n",
            "8959\n",
            "8970\n",
            "8981\n",
            "8992\n",
            "9003\n",
            "9014\n",
            "9029\n",
            "9040\n",
            "9051\n",
            "9062\n",
            "9073\n",
            "9084\n",
            "9095\n",
            "9106\n",
            "9117\n",
            "9119\n",
            "9130\n",
            "9141\n",
            "9152\n",
            "9163\n",
            "9174\n",
            "9185\n",
            "9196\n",
            "9207\n",
            "9218\n",
            "9220\n",
            "9231\n",
            "9242\n",
            "9253\n",
            "9264\n",
            "9275\n",
            "9286\n",
            "9297\n",
            "9308\n",
            "9319\n",
            "9321\n",
            "9332\n",
            "9343\n",
            "9354\n",
            "9365\n",
            "9376\n",
            "9387\n",
            "9398\n",
            "9409\n",
            "9420\n",
            "9422\n",
            "9433\n",
            "9444\n",
            "9455\n",
            "9466\n",
            "9477\n",
            "9488\n",
            "9499\n",
            "9510\n",
            "9521\n",
            "9523\n",
            "9534\n",
            "9545\n",
            "9556\n",
            "9567\n",
            "9578\n",
            "9589\n",
            "9600\n",
            "9611\n",
            "9622\n",
            "9624\n",
            "9635\n",
            "9646\n",
            "9657\n",
            "9668\n",
            "9679\n",
            "9690\n",
            "9701\n",
            "9712\n",
            "9723\n",
            "9725\n",
            "9736\n",
            "9747\n",
            "9758\n",
            "9769\n",
            "9780\n",
            "9791\n",
            "9802\n",
            "9813\n",
            "9824\n",
            "9826\n",
            "9837\n",
            "9848\n",
            "9859\n",
            "9870\n",
            "9881\n",
            "9892\n",
            "9903\n",
            "9914\n",
            "9925\n",
            "9927\n",
            "9938\n",
            "9949\n",
            "9960\n",
            "9971\n",
            "9982\n",
            "9993\n"
          ]
        }
      ]
    },
    {
      "cell_type": "markdown",
      "source": [
        "# **1065: 한수**"
      ],
      "metadata": {
        "id": "rWy-6-jZdj9x"
      }
    },
    {
      "cell_type": "code",
      "source": [
        "n = int(input())\n",
        "cnt=0\n",
        "for i in range(1,n+1):\n",
        "  if (i < 100):\n",
        "    cnt += 1\n",
        "  else:\n",
        "    if((i // 100) - (i // 10 % 10) == (i//10%10) - (i%10)):\n",
        "      cnt +=1\n",
        "print(cnt)"
      ],
      "metadata": {
        "colab": {
          "base_uri": "https://localhost:8080/"
        },
        "id": "00Xo_l8yaO3c",
        "outputId": "7cc77a3b-89de-4362-8df4-8c4e8c3c0492"
      },
      "execution_count": 32,
      "outputs": [
        {
          "output_type": "stream",
          "name": "stdout",
          "text": [
            "1000\n",
            "144\n"
          ]
        }
      ]
    }
  ]
}