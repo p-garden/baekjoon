{
  "nbformat": 4,
  "nbformat_minor": 0,
  "metadata": {
    "colab": {
      "provenance": [],
      "authorship_tag": "ABX9TyOdoFRGTunJ+14X5aXZeD/a",
      "include_colab_link": true
    },
    "kernelspec": {
      "name": "python3",
      "display_name": "Python 3"
    },
    "language_info": {
      "name": "python"
    }
  },
  "cells": [
    {
      "cell_type": "markdown",
      "metadata": {
        "id": "view-in-github",
        "colab_type": "text"
      },
      "source": [
        "<a href=\"https://colab.research.google.com/github/p-garden/baekjoon/blob/main/baekjoon.ipynb\" target=\"_parent\"><img src=\"https://colab.research.google.com/assets/colab-badge.svg\" alt=\"Open In Colab\"/></a>"
      ]
    },
    {
      "cell_type": "markdown",
      "source": [
        "# **1541번 잃어버린 괄호**"
      ],
      "metadata": {
        "id": "TjIvvtzdCqrg"
      }
    },
    {
      "cell_type": "code",
      "execution_count": 10,
      "metadata": {
        "colab": {
          "base_uri": "https://localhost:8080/"
        },
        "id": "c6qoQVgYCdLI",
        "outputId": "af395b8f-1976-452a-def8-a37e4fd5a065"
      },
      "outputs": [
        {
          "output_type": "stream",
          "name": "stdout",
          "text": [
            "00009-00009\n",
            "0\n"
          ]
        }
      ],
      "source": [
        "exp = input()\n",
        "min_exp = exp.split('-')\n",
        "sum_ = 0 \n",
        "n_list = []\n",
        "for n in min_exp:\n",
        "  num = n.split('+')\n",
        "  num = list(map(int,num))\n",
        "  sum_ = sum(num)\n",
        "  n_list.append(sum_)\n",
        "res = n_list[0]\n",
        "for n in n_list[1:]:\n",
        "  res -= n\n",
        "print(res)"
      ]
    },
    {
      "cell_type": "markdown",
      "source": [
        "# **1026번 보물**"
      ],
      "metadata": {
        "id": "3NPzN-LNCqH0"
      }
    },
    {
      "cell_type": "code",
      "source": [
        "n = int(input())\n",
        "a = input().split()\n",
        "b = input().split()\n",
        "a = list(map(int,a))\n",
        "b = list(map(int,b))\n",
        "a.sort()\n",
        "b.sort(reverse = True)\n",
        "res = 0\n",
        "for i in range(n):\n",
        "  res += a[i] * b[i]\n",
        "print(res)"
      ],
      "metadata": {
        "colab": {
          "base_uri": "https://localhost:8080/"
        },
        "id": "cD54bqLk4psz",
        "outputId": "e402b448-2aef-41a9-ec71-f18dc653a931"
      },
      "execution_count": 14,
      "outputs": [
        {
          "output_type": "stream",
          "name": "stdout",
          "text": [
            "9\n",
            "5 15 100 31 39 0 0 3 26\n",
            "11 12 13 2 3 4 5 9 1\n",
            "528\n"
          ]
        }
      ]
    },
    {
      "cell_type": "markdown",
      "source": [
        "# **1789번 수들의 합**"
      ],
      "metadata": {
        "id": "-KpCtrY1-lM7"
      }
    },
    {
      "cell_type": "code",
      "source": [
        "s = int(input())\n",
        "sum = 0\n",
        "n =0 \n",
        "for i in range(1,4294967295):\n",
        "  sum += i\n",
        "  n += 1\n",
        "  if(sum < s):\n",
        "    continue\n",
        "  elif(sum == s):\n",
        "    break\n",
        "  else:\n",
        "    sum -= (i-1)\n",
        "    n -= 1\n",
        "    if sum == s: \n",
        "      break\n",
        "    else:\n",
        "      sum -= i\n",
        "      n -=1\n",
        "print(n)"
      ],
      "metadata": {
        "colab": {
          "base_uri": "https://localhost:8080/"
        },
        "id": "X4syy5Pa5CZY",
        "outputId": "49fcc547-b87d-413f-fb27-9c0ab1a4ef60"
      },
      "execution_count": 17,
      "outputs": [
        {
          "output_type": "stream",
          "name": "stdout",
          "text": [
            "50\n",
            "9\n"
          ]
        }
      ]
    },
    {
      "cell_type": "markdown",
      "source": [
        "# **10162번 전자레인지**"
      ],
      "metadata": {
        "id": "M81UXLxSPpZF"
      }
    },
    {
      "cell_type": "code",
      "source": [
        "target_time = int(input())\n",
        "a = 300\n",
        "b = 60 \n",
        "c=10\n",
        "a_t=0\n",
        "b_t=0\n",
        "c_t=0\n",
        "while(target_time>0):\n",
        "  if(target_time % 10 != 0):\n",
        "    break\n",
        "  if(target_time >= a):\n",
        "    while(target_time >= a):\n",
        "      target_time -= a\n",
        "      a_t += 1\n",
        "  elif (target_time >= b):\n",
        "    while(target_time >= b):\n",
        "      target_time -= b\n",
        "      b_t += 1\n",
        "  else:\n",
        "    while(target_time >= c):\n",
        "      target_time -= c\n",
        "      c_t += 1\n",
        "if (a_t ==0 and b_t ==0 and c_t ==0):\n",
        "  print('-1')\n",
        "else:\n",
        "  print('%d %d %d' % (a_t,b_t,c_t))\n"
      ],
      "metadata": {
        "colab": {
          "base_uri": "https://localhost:8080/"
        },
        "id": "HAO3Bj16Puab",
        "outputId": "5a1cb0e1-a7a2-4653-fcca-8678287871f1"
      },
      "execution_count": 20,
      "outputs": [
        {
          "output_type": "stream",
          "name": "stdout",
          "text": [
            "320\n",
            "1 0 2\n"
          ]
        }
      ]
    }
  ]
}