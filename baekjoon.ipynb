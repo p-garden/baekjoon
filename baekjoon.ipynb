{
  "nbformat": 4,
  "nbformat_minor": 0,
  "metadata": {
    "colab": {
      "provenance": [],
      "authorship_tag": "ABX9TyMMY5gaMPsvOyS3Z5/rX4+a",
      "include_colab_link": true
    },
    "kernelspec": {
      "name": "python3",
      "display_name": "Python 3"
    },
    "language_info": {
      "name": "python"
    }
  },
  "cells": [
    {
      "cell_type": "markdown",
      "metadata": {
        "id": "view-in-github",
        "colab_type": "text"
      },
      "source": [
        "<a href=\"https://colab.research.google.com/github/p-garden/baekjoon/blob/main/baekjoon.ipynb\" target=\"_parent\"><img src=\"https://colab.research.google.com/assets/colab-badge.svg\" alt=\"Open In Colab\"/></a>"
      ]
    },
    {
      "cell_type": "markdown",
      "source": [
        "# **1541번 잃어버린 괄호**"
      ],
      "metadata": {
        "id": "TjIvvtzdCqrg"
      }
    },
    {
      "cell_type": "code",
      "execution_count": null,
      "metadata": {
        "colab": {
          "base_uri": "https://localhost:8080/"
        },
        "id": "c6qoQVgYCdLI",
        "outputId": "af395b8f-1976-452a-def8-a37e4fd5a065"
      },
      "outputs": [
        {
          "output_type": "stream",
          "name": "stdout",
          "text": [
            "00009-00009\n",
            "0\n"
          ]
        }
      ],
      "source": [
        "exp = input()\n",
        "min_exp = exp.split('-')\n",
        "sum_ = 0 \n",
        "n_list = []\n",
        "for n in min_exp:\n",
        "  num = n.split('+')\n",
        "  num = list(map(int,num))\n",
        "  sum_ = sum(num)\n",
        "  n_list.append(sum_)\n",
        "res = n_list[0]\n",
        "for n in n_list[1:]:\n",
        "  res -= n\n",
        "print(res)"
      ]
    },
    {
      "cell_type": "markdown",
      "source": [
        "# **1026번 보물**"
      ],
      "metadata": {
        "id": "3NPzN-LNCqH0"
      }
    },
    {
      "cell_type": "code",
      "source": [
        "n = int(input())\n",
        "a = input().split()\n",
        "b = input().split()\n",
        "a = list(map(int,a))\n",
        "b = list(map(int,b))\n",
        "a.sort()\n",
        "b.sort(reverse = True)\n",
        "res = 0\n",
        "for i in range(n):\n",
        "  res += a[i] * b[i]\n",
        "print(res)"
      ],
      "metadata": {
        "colab": {
          "base_uri": "https://localhost:8080/"
        },
        "id": "cD54bqLk4psz",
        "outputId": "e402b448-2aef-41a9-ec71-f18dc653a931"
      },
      "execution_count": null,
      "outputs": [
        {
          "output_type": "stream",
          "name": "stdout",
          "text": [
            "9\n",
            "5 15 100 31 39 0 0 3 26\n",
            "11 12 13 2 3 4 5 9 1\n",
            "528\n"
          ]
        }
      ]
    },
    {
      "cell_type": "markdown",
      "source": [
        "# **1789번 수들의 합**"
      ],
      "metadata": {
        "id": "-KpCtrY1-lM7"
      }
    },
    {
      "cell_type": "code",
      "source": [
        "s = int(input())\n",
        "sum = 0\n",
        "n =0 \n",
        "for i in range(1,4294967295):\n",
        "  sum += i\n",
        "  n += 1\n",
        "  if(sum < s):\n",
        "    continue\n",
        "  elif(sum == s):\n",
        "    break\n",
        "  else:\n",
        "    sum -= (i-1)\n",
        "    n -= 1\n",
        "    if sum == s: \n",
        "      break\n",
        "    else:\n",
        "      sum -= i\n",
        "      n -=1\n",
        "print(n)"
      ],
      "metadata": {
        "colab": {
          "base_uri": "https://localhost:8080/"
        },
        "id": "X4syy5Pa5CZY",
        "outputId": "49fcc547-b87d-413f-fb27-9c0ab1a4ef60"
      },
      "execution_count": null,
      "outputs": [
        {
          "output_type": "stream",
          "name": "stdout",
          "text": [
            "50\n",
            "9\n"
          ]
        }
      ]
    },
    {
      "cell_type": "markdown",
      "source": [
        "# **10162번 전자레인지**"
      ],
      "metadata": {
        "id": "M81UXLxSPpZF"
      }
    },
    {
      "cell_type": "code",
      "source": [
        "target_time = int(input())\n",
        "a = 300\n",
        "b = 60 \n",
        "c=10\n",
        "a_t=0\n",
        "b_t=0\n",
        "c_t=0\n",
        "while(target_time>0):\n",
        "  if(target_time % 10 != 0):\n",
        "    break\n",
        "  if(target_time >= a):\n",
        "    while(target_time >= a):\n",
        "      target_time -= a\n",
        "      a_t += 1\n",
        "  elif (target_time >= b):\n",
        "    while(target_time >= b):\n",
        "      target_time -= b\n",
        "      b_t += 1\n",
        "  else:\n",
        "    while(target_time >= c):\n",
        "      target_time -= c\n",
        "      c_t += 1\n",
        "if (a_t ==0 and b_t ==0 and c_t ==0):\n",
        "  print('-1')\n",
        "else:\n",
        "  print('%d %d %d' % (a_t,b_t,c_t))\n"
      ],
      "metadata": {
        "colab": {
          "base_uri": "https://localhost:8080/"
        },
        "id": "HAO3Bj16Puab",
        "outputId": "5a1cb0e1-a7a2-4653-fcca-8678287871f1"
      },
      "execution_count": null,
      "outputs": [
        {
          "output_type": "stream",
          "name": "stdout",
          "text": [
            "320\n",
            "1 0 2\n"
          ]
        }
      ]
    },
    {
      "cell_type": "markdown",
      "source": [
        "# **13305번 주유소**\n"
      ],
      "metadata": {
        "id": "ZcqEBG2BShXH"
      }
    },
    {
      "cell_type": "code",
      "source": [
        "n = int(input())\n",
        "len_con = input().split()\n",
        "price_oil = input().split()\n",
        "\n",
        "len_con = list(map(int, len_con))\n",
        "price_oil = list(map(int, price_oil))\n",
        "\n",
        "c = price_oil[0]\n",
        "res =0\n",
        "\n",
        "for i in range(n-1):\n",
        "  if (c > price_oil[i]):\n",
        "    c = price_oil[i]\n",
        "  res += c * len_con[i]\n",
        "print(res)"
      ],
      "metadata": {
        "colab": {
          "base_uri": "https://localhost:8080/"
        },
        "id": "Wb7xtJZX_cox",
        "outputId": "86d95673-d95f-461d-8785-558d40a1a094"
      },
      "execution_count": null,
      "outputs": [
        {
          "output_type": "stream",
          "name": "stdout",
          "text": [
            "4\n",
            "3 3 4\n",
            "1 1 1 1\n",
            "10\n"
          ]
        }
      ]
    },
    {
      "cell_type": "markdown",
      "source": [
        "# **10610번 30**"
      ],
      "metadata": {
        "id": "bOzZu6mAS928"
      }
    },
    {
      "cell_type": "code",
      "source": [
        "n = input()\n",
        "sum_ = sum(list(map(int,n)))\n",
        "rst = 0 \n",
        "if (('0' not in n) or(sum_ % 3 != 0)):\n",
        "  rst=-1\n",
        "else:\n",
        "  n=list(n)\n",
        "  n.sort(reverse = True)\n",
        "  rst= int(\"\".join(n))\n",
        "print(rst)"
      ],
      "metadata": {
        "colab": {
          "base_uri": "https://localhost:8080/"
        },
        "id": "pFkAXtQSZ0kE",
        "outputId": "15035f02-bc71-4c33-dd2c-c9f17e41b4cd"
      },
      "execution_count": null,
      "outputs": [
        {
          "output_type": "stream",
          "name": "stdout",
          "text": [
            "-1\n"
          ]
        }
      ]
    },
    {
      "cell_type": "markdown",
      "source": [
        "# **1715번 카드 정렬하기**"
      ],
      "metadata": {
        "id": "UlGtMN95_xDQ"
      }
    },
    {
      "cell_type": "code",
      "source": [
        "import numpy as np\n",
        "n = int(input())\n",
        "card_list = [input() for _ in range(n)]\n",
        "card_list = list(map(int, card_list))\n",
        "card_list.sort()\n",
        "sum_card=[]\n",
        "sum_card.append(card_list[0])\n",
        "for i in range(1,n):\n",
        "  sum_card.append(sum_card[i-1] + card_list[i])\n",
        "print(np.sum(sum_card) - card_list[0])\n",
        "\n",
        "# 틀린 답\n"
      ],
      "metadata": {
        "colab": {
          "base_uri": "https://localhost:8080/"
        },
        "id": "QsIr4EeV_wct",
        "outputId": "6ba0310f-594b-4876-96cf-be12c12df6c6"
      },
      "execution_count": null,
      "outputs": [
        {
          "output_type": "stream",
          "name": "stdout",
          "text": [
            "5\n",
            "10\n",
            "10\n",
            "10\n",
            "10\n",
            "10\n",
            "140\n"
          ]
        }
      ]
    },
    {
      "cell_type": "markdown",
      "source": [
        "# **1463번 1로 만들기**"
      ],
      "metadata": {
        "id": "hmWwZth24ZQ7"
      }
    },
    {
      "cell_type": "code",
      "source": [
        "import time\n",
        "from datetime import timedelta\n",
        "start = time.process_time()\n",
        "x = int(input())\n",
        "pro=[]\n",
        "pre_pro = []\n",
        "pre_pro.append(x)\n",
        "trial=0\n",
        "while(1):\n",
        "  for j in range(len(pre_pro)):\n",
        "    cur = pre_pro[j]\n",
        "    if (cur % 3 ==0):\n",
        "      pro.append(cur // 3)\n",
        "      if(1 in pro):\n",
        "        break\n",
        "    if (cur % 2 ==0):\n",
        "      pro.append(cur // 2)\n",
        "      if(1 in pro):\n",
        "        break\n",
        "    pro.append(cur -1)\n",
        "  trial += 1\n",
        "  if(1 in pro):\n",
        "    break\n",
        "  pre_pro = pro\n",
        "  pro = []\n",
        "end = time.process_time()\n",
        "print(end - start)\n",
        "print(trial)\n",
        "# 틀린 방법\n"
      ],
      "metadata": {
        "colab": {
          "base_uri": "https://localhost:8080/"
        },
        "id": "E-iS0bgK4ffO",
        "outputId": "f0041e0a-4b9c-40e2-914a-e657755e1cd5"
      },
      "execution_count": null,
      "outputs": [
        {
          "output_type": "stream",
          "name": "stdout",
          "text": [
            "892381\n",
            "5.467321396000017\n",
            "18\n"
          ]
        }
      ]
    },
    {
      "cell_type": "code",
      "source": [
        "n = int(input())\n",
        "count = [0] * 1000001\n",
        "count[2]=1\n",
        "count[3] = 1\n",
        "\n",
        "for i in  range(2,n+1):\n",
        "  a = 1000000\n",
        "  if (i % 3 ==0):\n",
        "    a = count[i//3] +1\n",
        "  b = 1000000\n",
        "  if (i % 2==0):\n",
        "    b = count[i//2] +1\n",
        "  c = count[i-1] +1\n",
        "  count[i] = min(a,b,c)\n",
        "\n",
        "print(count[n])\n",
        "# 맞는 방법 (리스트에 각 숫자의 최소도달값 저장) (새로운 값 구할 때 이전의 값 이용)"
      ],
      "metadata": {
        "colab": {
          "base_uri": "https://localhost:8080/"
        },
        "id": "fr7WF8WS4gpT",
        "outputId": "224971d4-00cb-4532-ac1a-ca0d0ff818f7"
      },
      "execution_count": null,
      "outputs": [
        {
          "output_type": "stream",
          "name": "stdout",
          "text": [
            "11\n",
            "4\n"
          ]
        }
      ]
    },
    {
      "cell_type": "markdown",
      "source": [
        "# **2839번 설탕 배달**"
      ],
      "metadata": {
        "id": "TV01pjWKLASq"
      }
    },
    {
      "cell_type": "code",
      "source": [
        "n = int(input())\n",
        "prt=0\n",
        "while (n):\n",
        "  if n <3:\n",
        "    print('-1')\n",
        "    break\n",
        "  if n % 5 == 0:\n",
        "    prt += n // 5\n",
        "    n -= ((n//5)*5)\n",
        "    break\n",
        "  n -= 3\n",
        "  prt += 1\n",
        "if(n==0):\n",
        "  print(prt)"
      ],
      "metadata": {
        "id": "DD1YwYlC4g7k",
        "colab": {
          "base_uri": "https://localhost:8080/"
        },
        "outputId": "ce811711-4629-4f2f-b11b-254ba4a9bdb0"
      },
      "execution_count": 8,
      "outputs": [
        {
          "output_type": "stream",
          "name": "stdout",
          "text": [
            "11\n",
            "3\n"
          ]
        }
      ]
    }
  ]
}