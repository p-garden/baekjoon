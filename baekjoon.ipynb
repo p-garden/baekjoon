{
  "nbformat": 4,
  "nbformat_minor": 0,
  "metadata": {
    "colab": {
      "provenance": [],
      "authorship_tag": "ABX9TyNGaL2q41WPdiLAjhtO4+04",
      "include_colab_link": true
    },
    "kernelspec": {
      "name": "python3",
      "display_name": "Python 3"
    },
    "language_info": {
      "name": "python"
    }
  },
  "cells": [
    {
      "cell_type": "markdown",
      "metadata": {
        "id": "view-in-github",
        "colab_type": "text"
      },
      "source": [
        "<a href=\"https://colab.research.google.com/github/p-garden/baekjoon/blob/main/baekjoon.ipynb\" target=\"_parent\"><img src=\"https://colab.research.google.com/assets/colab-badge.svg\" alt=\"Open In Colab\"/></a>"
      ]
    },
    {
      "cell_type": "markdown",
      "source": [
        "**14503번 로봇 청소기** //deque"
      ],
      "metadata": {
        "id": "ndGusUocA6Rl"
      }
    },
    {
      "cell_type": "code",
      "execution_count": 9,
      "metadata": {
        "colab": {
          "base_uri": "https://localhost:8080/",
          "height": 415
        },
        "id": "QVaHY8yaAZ0I",
        "outputId": "71907b40-d1b6-4895-dd7b-6c5006ca113c"
      },
      "outputs": [
        {
          "output_type": "error",
          "ename": "KeyboardInterrupt",
          "evalue": "Interrupted by user",
          "traceback": [
            "\u001b[0;31m---------------------------------------------------------------------------\u001b[0m",
            "\u001b[0;31mKeyboardInterrupt\u001b[0m                         Traceback (most recent call last)",
            "\u001b[0;32m<ipython-input-9-d15a269f05ea>\u001b[0m in \u001b[0;36m<cell line: 3>\u001b[0;34m()\u001b[0m\n\u001b[1;32m      1\u001b[0m \u001b[0;32mfrom\u001b[0m \u001b[0mcollections\u001b[0m \u001b[0;32mimport\u001b[0m \u001b[0mdeque\u001b[0m\u001b[0;34m\u001b[0m\u001b[0;34m\u001b[0m\u001b[0m\n\u001b[1;32m      2\u001b[0m \u001b[0;34m\u001b[0m\u001b[0m\n\u001b[0;32m----> 3\u001b[0;31m \u001b[0mn\u001b[0m\u001b[0;34m,\u001b[0m \u001b[0mm\u001b[0m \u001b[0;34m=\u001b[0m \u001b[0mmap\u001b[0m\u001b[0;34m(\u001b[0m\u001b[0mint\u001b[0m\u001b[0;34m,\u001b[0m \u001b[0minput\u001b[0m\u001b[0;34m(\u001b[0m\u001b[0;34m)\u001b[0m\u001b[0;34m.\u001b[0m\u001b[0msplit\u001b[0m\u001b[0;34m(\u001b[0m\u001b[0;34m)\u001b[0m\u001b[0;34m)\u001b[0m\u001b[0;34m\u001b[0m\u001b[0;34m\u001b[0m\u001b[0m\n\u001b[0m\u001b[1;32m      4\u001b[0m \u001b[0mr\u001b[0m\u001b[0;34m,\u001b[0m \u001b[0mc\u001b[0m\u001b[0;34m,\u001b[0m \u001b[0md\u001b[0m \u001b[0;34m=\u001b[0m \u001b[0mmap\u001b[0m\u001b[0;34m(\u001b[0m\u001b[0mint\u001b[0m\u001b[0;34m,\u001b[0m \u001b[0minput\u001b[0m\u001b[0;34m(\u001b[0m\u001b[0;34m)\u001b[0m\u001b[0;34m.\u001b[0m\u001b[0msplit\u001b[0m\u001b[0;34m(\u001b[0m\u001b[0;34m)\u001b[0m\u001b[0;34m)\u001b[0m\u001b[0;34m\u001b[0m\u001b[0;34m\u001b[0m\u001b[0m\n\u001b[1;32m      5\u001b[0m \u001b[0mmaps\u001b[0m \u001b[0;34m=\u001b[0m \u001b[0;34m[\u001b[0m \u001b[0;34m[\u001b[0m \u001b[0mint\u001b[0m\u001b[0;34m(\u001b[0m\u001b[0mx\u001b[0m\u001b[0;34m)\u001b[0m \u001b[0;32mfor\u001b[0m \u001b[0mx\u001b[0m \u001b[0;32min\u001b[0m \u001b[0minput\u001b[0m\u001b[0;34m(\u001b[0m\u001b[0;34m)\u001b[0m\u001b[0;34m.\u001b[0m\u001b[0msplit\u001b[0m\u001b[0;34m(\u001b[0m\u001b[0;34m)\u001b[0m\u001b[0;34m]\u001b[0m \u001b[0;32mfor\u001b[0m \u001b[0m_\u001b[0m \u001b[0;32min\u001b[0m \u001b[0mrange\u001b[0m\u001b[0;34m(\u001b[0m\u001b[0mn\u001b[0m\u001b[0;34m)\u001b[0m \u001b[0;34m]\u001b[0m\u001b[0;34m\u001b[0m\u001b[0;34m\u001b[0m\u001b[0m\n",
            "\u001b[0;32m/usr/local/lib/python3.10/dist-packages/ipykernel/kernelbase.py\u001b[0m in \u001b[0;36mraw_input\u001b[0;34m(self, prompt)\u001b[0m\n\u001b[1;32m    849\u001b[0m                 \u001b[0;34m\"raw_input was called, but this frontend does not support input requests.\"\u001b[0m\u001b[0;34m\u001b[0m\u001b[0;34m\u001b[0m\u001b[0m\n\u001b[1;32m    850\u001b[0m             )\n\u001b[0;32m--> 851\u001b[0;31m         return self._input_request(str(prompt),\n\u001b[0m\u001b[1;32m    852\u001b[0m             \u001b[0mself\u001b[0m\u001b[0;34m.\u001b[0m\u001b[0m_parent_ident\u001b[0m\u001b[0;34m,\u001b[0m\u001b[0;34m\u001b[0m\u001b[0;34m\u001b[0m\u001b[0m\n\u001b[1;32m    853\u001b[0m             \u001b[0mself\u001b[0m\u001b[0;34m.\u001b[0m\u001b[0m_parent_header\u001b[0m\u001b[0;34m,\u001b[0m\u001b[0;34m\u001b[0m\u001b[0;34m\u001b[0m\u001b[0m\n",
            "\u001b[0;32m/usr/local/lib/python3.10/dist-packages/ipykernel/kernelbase.py\u001b[0m in \u001b[0;36m_input_request\u001b[0;34m(self, prompt, ident, parent, password)\u001b[0m\n\u001b[1;32m    893\u001b[0m             \u001b[0;32mexcept\u001b[0m \u001b[0mKeyboardInterrupt\u001b[0m\u001b[0;34m:\u001b[0m\u001b[0;34m\u001b[0m\u001b[0;34m\u001b[0m\u001b[0m\n\u001b[1;32m    894\u001b[0m                 \u001b[0;31m# re-raise KeyboardInterrupt, to truncate traceback\u001b[0m\u001b[0;34m\u001b[0m\u001b[0;34m\u001b[0m\u001b[0m\n\u001b[0;32m--> 895\u001b[0;31m                 \u001b[0;32mraise\u001b[0m \u001b[0mKeyboardInterrupt\u001b[0m\u001b[0;34m(\u001b[0m\u001b[0;34m\"Interrupted by user\"\u001b[0m\u001b[0;34m)\u001b[0m \u001b[0;32mfrom\u001b[0m \u001b[0;32mNone\u001b[0m\u001b[0;34m\u001b[0m\u001b[0;34m\u001b[0m\u001b[0m\n\u001b[0m\u001b[1;32m    896\u001b[0m             \u001b[0;32mexcept\u001b[0m \u001b[0mException\u001b[0m \u001b[0;32mas\u001b[0m \u001b[0me\u001b[0m\u001b[0;34m:\u001b[0m\u001b[0;34m\u001b[0m\u001b[0;34m\u001b[0m\u001b[0m\n\u001b[1;32m    897\u001b[0m                 \u001b[0mself\u001b[0m\u001b[0;34m.\u001b[0m\u001b[0mlog\u001b[0m\u001b[0;34m.\u001b[0m\u001b[0mwarning\u001b[0m\u001b[0;34m(\u001b[0m\u001b[0;34m\"Invalid Message:\"\u001b[0m\u001b[0;34m,\u001b[0m \u001b[0mexc_info\u001b[0m\u001b[0;34m=\u001b[0m\u001b[0;32mTrue\u001b[0m\u001b[0;34m)\u001b[0m\u001b[0;34m\u001b[0m\u001b[0;34m\u001b[0m\u001b[0m\n",
            "\u001b[0;31mKeyboardInterrupt\u001b[0m: Interrupted by user"
          ]
        }
      ],
      "source": [
        "from collections import deque\n",
        "\n",
        "n, m = map(int, input().split())\n",
        "r, c, d = map(int, input().split())\n",
        "maps = [ [ int(x) for x in input().split()] for _ in range(n) ]\n",
        "dv = [(-1,0), (0,1), (1,0), (0,-1)]\n",
        "\n",
        "def bfs(x,y,d):\n",
        "  cnt=1\n",
        "  maps[x][y]=2\n",
        "\n",
        "  queue = deque()\n",
        "  queue.append((x,y))\n",
        "\n",
        "  while queue:\n",
        "    x,y = queue.popleft()\n",
        "    is_in = False\n",
        "\n",
        "    for _ in range(4):\n",
        "      d = (d+3) % 4\n",
        "      nx = x + dv[d][0]\n",
        "      ny = y + dv[d][1]\n",
        "\n",
        "      if 0 <= nx < n and 0 <= ny < m and maps[nx][ny] ==0:\n",
        "        maps[nx][ny] =2\n",
        "        queue.append((nx,ny))\n",
        "        cnt += 1\n",
        "        is_in = True\n",
        "        break\n",
        "\n",
        "    if is_in == False:\n",
        "      tmp_x = x - dv[d][0]\n",
        "      tmp_y = y - dv[d][1]\n",
        "\n",
        "      if tmp_x <0 or tmp_x >= n or tmp_y <0 or tmp_y >=m or maps[tmp_x][tmp_y] == 1:\n",
        "        return cnt\n",
        "\n",
        "      queue.append((tmp_x, tmp_y))\n",
        "  return cnt\n",
        "\n",
        "print(bfs(r,c,d))"
      ]
    },
    {
      "cell_type": "markdown",
      "source": [
        "**14891번 톱니바퀴** fail //deque"
      ],
      "metadata": {
        "id": "PCy34kbx50js"
      }
    },
    {
      "cell_type": "code",
      "source": [
        "from collections import deque\n",
        "\n",
        "gear = [deque([int(x) for x in input()]) for _ in range(4)]  # 톱니바퀴 입력받기\n",
        "rot_cnt = int(input())\n",
        "score = 0\n",
        "\n",
        "for i in range(rot_cnt):  # 각 회전 마다 톱니바퀴 굴리기\n",
        "    rot_x, rot_dist = map(int, input().split())\n",
        "    rot = [0,0,0,0]     #연쇄적으로 회전하는 것이 아닌 회전 여부 판정 후 동시에 회전(약간 부자연스럽)\n",
        "    rot[rot_x-1] = rot_dist    #시작 기어 회전방향 저장\n",
        "\n",
        "    cp_rot_dist = rot_dist\n",
        "    for j in range(0, 3):  # 오른쪽 톱니바퀴들 회전 결정\n",
        "        if rot_x - 1 + j + 1 <= 3:  # 범위 안의 톱니바퀴인지 구분\n",
        "            if gear[rot_x - 1 + j][2] != gear[rot_x - 1 + j + 1][6]:  # 다른극이면\n",
        "              cp_rot_dist *= -1\n",
        "              rot[rot_x-1+j+1] = cp_rot_dist           #반대 방향으로 회전 방향 지정\n",
        "            else:\n",
        "                break\n",
        "        else:  # 범위밖 회전 X\n",
        "            break\n",
        "\n",
        "    cp_rot_dist = rot_dist  # 똑같은 과정 좌측으로도 진행\n",
        "    for j in range(0, 3):\n",
        "        if rot_x - 1 - j - 1 >= 0:\n",
        "            if gear[rot_x - 1 - j][6] != gear[rot_x - 1 - j - 1][2]:\n",
        "              cp_rot_dist *= -1\n",
        "              rot[rot_x-1-j-1] = cp_rot_dist\n",
        "            else:\n",
        "                break\n",
        "        else:\n",
        "            break\n",
        "\n",
        "    for j in range(0,3):\n",
        "      if rot[j] == 1 or rot[j] == -1:\n",
        "        gear[j].rotate(rot[j])\n",
        "\n",
        "for i in range(0,4): #점수합산\n",
        "  if gear[i][0] ==1:\n",
        "    score += (2 **i)\n",
        "\n",
        "print(score)"
      ],
      "metadata": {
        "id": "Tu7qedY2AncR"
      },
      "execution_count": null,
      "outputs": []
    },
    {
      "cell_type": "markdown",
      "source": [
        "**15686번 치킨 배달** //combinations"
      ],
      "metadata": {
        "id": "n0rjv6fKBKNe"
      }
    },
    {
      "cell_type": "code",
      "source": [
        "from itertools import combinations\n",
        "house = []\n",
        "chicken = []\n",
        "\n",
        "n,m = map(int, input().split())\n",
        "town = [ [int(x) for x in input().split()]  for _ in range(n)]\n",
        "\n",
        "for i in range(n):\n",
        "  for j in range(n):\n",
        "\n",
        "    if town[i][j] ==1:\n",
        "      house.append([i,j])           #집과 치킨집을 따로 배열에 저장\n",
        "    if town[i][j] ==2:\n",
        "      chicken.append([i,j])\n",
        "\n",
        "fin_chi=100000\n",
        "for i in combinations(chicken,m):      #전체 치킨 집 중 m개의 치킨집을 선택, 모든 경우 실행\n",
        "  city_dist=0\n",
        "  for j in house:\n",
        "    house_dist=999\n",
        "\n",
        "    for k in i:                        #각 집과 치킨집과의 거리 구하기\n",
        "      house_dist = min(house_dist, abs(j[0]-k[0])+abs(j[1]-k[1]))\n",
        "    city_dist += house_dist            #경우 마다 도시의 치킨 거리 합 구하기\n",
        "  fin_chi = min(fin_chi, city_dist)\n",
        "\n",
        "print(fin_chi)\n"
      ],
      "metadata": {
        "id": "GFG5pJooApJu"
      },
      "execution_count": null,
      "outputs": []
    },
    {
      "cell_type": "markdown",
      "source": [
        "**14888번: 연산자 끼워넣기**"
      ],
      "metadata": {
        "id": "VENln1uDYWZC"
      }
    },
    {
      "cell_type": "code",
      "source": [
        "n = int(input())\n",
        "nums = [int(x) for x in input().split()]\n",
        "add, sub, mul, div = map(int, input().split())\n",
        "max_value = -1000000000\n",
        "min_value =  10000000000\n",
        "\n",
        "def dfs(cur, data):\n",
        "  global add,sub,mul,div,max_value,min_value\n",
        "\n",
        "  if cur == n:\n",
        "    max_value = max(max_value, data)\n",
        "    min_value = min(min_value,data)\n",
        "    return\n",
        "\n",
        "  if add>0:\n",
        "    add -=1\n",
        "    dfs(cur+1, data+nums[cur])\n",
        "    add+=1\n",
        "  if sub>0:\n",
        "    sub -=1\n",
        "    dfs(cur+1, data-nums[cur])\n",
        "    sub+=1\n",
        "  if mul>0:\n",
        "    mul -=1\n",
        "    dfs(cur+1, data*nums[cur])\n",
        "    mul+=1\n",
        "  if div > 0:\n",
        "    div -=1\n",
        "    dfs(cur+1, (int)(data/nums[cur]) )\n",
        "    div+=1\n",
        "\n",
        "dfs(1,nums[0])\n",
        "print(max_value)\n",
        "print(min_value)"
      ],
      "metadata": {
        "id": "2AW64dz7ApP7"
      },
      "execution_count": null,
      "outputs": []
    }
  ]
}