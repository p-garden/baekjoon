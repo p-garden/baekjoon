{
  "nbformat": 4,
  "nbformat_minor": 0,
  "metadata": {
    "colab": {
      "provenance": [],
      "authorship_tag": "ABX9TyPojd/q2IGNhXEOkSiNqtxX",
      "include_colab_link": true
    },
    "kernelspec": {
      "name": "python3",
      "display_name": "Python 3"
    },
    "language_info": {
      "name": "python"
    }
  },
  "cells": [
    {
      "cell_type": "markdown",
      "metadata": {
        "id": "view-in-github",
        "colab_type": "text"
      },
      "source": [
        "<a href=\"https://colab.research.google.com/github/p-garden/baekjoon/blob/main/baekjoon.ipynb\" target=\"_parent\"><img src=\"https://colab.research.google.com/assets/colab-badge.svg\" alt=\"Open In Colab\"/></a>"
      ]
    },
    {
      "cell_type": "markdown",
      "source": [
        "# **1541번 잃어버린 괄호**"
      ],
      "metadata": {
        "id": "TjIvvtzdCqrg"
      }
    },
    {
      "cell_type": "code",
      "execution_count": null,
      "metadata": {
        "colab": {
          "base_uri": "https://localhost:8080/"
        },
        "id": "c6qoQVgYCdLI",
        "outputId": "af395b8f-1976-452a-def8-a37e4fd5a065"
      },
      "outputs": [
        {
          "output_type": "stream",
          "name": "stdout",
          "text": [
            "00009-00009\n",
            "0\n"
          ]
        }
      ],
      "source": [
        "exp = input()\n",
        "min_exp = exp.split('-')\n",
        "sum_ = 0 \n",
        "n_list = []\n",
        "for n in min_exp:\n",
        "  num = n.split('+')\n",
        "  num = list(map(int,num))\n",
        "  sum_ = sum(num)\n",
        "  n_list.append(sum_)\n",
        "res = n_list[0]\n",
        "for n in n_list[1:]:\n",
        "  res -= n\n",
        "print(res)"
      ]
    },
    {
      "cell_type": "markdown",
      "source": [
        "# **1026번 보물**"
      ],
      "metadata": {
        "id": "3NPzN-LNCqH0"
      }
    },
    {
      "cell_type": "code",
      "source": [
        "n = int(input())\n",
        "a = input().split()\n",
        "b = input().split()\n",
        "a = list(map(int,a))\n",
        "b = list(map(int,b))\n",
        "a.sort()\n",
        "b.sort(reverse = True)\n",
        "res = 0\n",
        "for i in range(n):\n",
        "  res += a[i] * b[i]\n",
        "print(res)"
      ],
      "metadata": {
        "colab": {
          "base_uri": "https://localhost:8080/"
        },
        "id": "cD54bqLk4psz",
        "outputId": "e402b448-2aef-41a9-ec71-f18dc653a931"
      },
      "execution_count": null,
      "outputs": [
        {
          "output_type": "stream",
          "name": "stdout",
          "text": [
            "9\n",
            "5 15 100 31 39 0 0 3 26\n",
            "11 12 13 2 3 4 5 9 1\n",
            "528\n"
          ]
        }
      ]
    },
    {
      "cell_type": "markdown",
      "source": [
        "# **1789번 수들의 합**"
      ],
      "metadata": {
        "id": "-KpCtrY1-lM7"
      }
    },
    {
      "cell_type": "code",
      "source": [
        "s = int(input())\n",
        "sum = 0\n",
        "n =0 \n",
        "for i in range(1,4294967295):\n",
        "  sum += i\n",
        "  n += 1\n",
        "  if(sum < s):\n",
        "    continue\n",
        "  elif(sum == s):\n",
        "    break\n",
        "  else:\n",
        "    sum -= (i-1)\n",
        "    n -= 1\n",
        "    if sum == s: \n",
        "      break\n",
        "    else:\n",
        "      sum -= i\n",
        "      n -=1\n",
        "print(n)"
      ],
      "metadata": {
        "colab": {
          "base_uri": "https://localhost:8080/"
        },
        "id": "X4syy5Pa5CZY",
        "outputId": "49fcc547-b87d-413f-fb27-9c0ab1a4ef60"
      },
      "execution_count": null,
      "outputs": [
        {
          "output_type": "stream",
          "name": "stdout",
          "text": [
            "50\n",
            "9\n"
          ]
        }
      ]
    },
    {
      "cell_type": "markdown",
      "source": [
        "# **10162번 전자레인지**"
      ],
      "metadata": {
        "id": "M81UXLxSPpZF"
      }
    },
    {
      "cell_type": "code",
      "source": [
        "target_time = int(input())\n",
        "a = 300\n",
        "b = 60 \n",
        "c=10\n",
        "a_t=0\n",
        "b_t=0\n",
        "c_t=0\n",
        "while(target_time>0):\n",
        "  if(target_time % 10 != 0):\n",
        "    break\n",
        "  if(target_time >= a):\n",
        "    while(target_time >= a):\n",
        "      target_time -= a\n",
        "      a_t += 1\n",
        "  elif (target_time >= b):\n",
        "    while(target_time >= b):\n",
        "      target_time -= b\n",
        "      b_t += 1\n",
        "  else:\n",
        "    while(target_time >= c):\n",
        "      target_time -= c\n",
        "      c_t += 1\n",
        "if (a_t ==0 and b_t ==0 and c_t ==0):\n",
        "  print('-1')\n",
        "else:\n",
        "  print('%d %d %d' % (a_t,b_t,c_t))\n"
      ],
      "metadata": {
        "colab": {
          "base_uri": "https://localhost:8080/"
        },
        "id": "HAO3Bj16Puab",
        "outputId": "5a1cb0e1-a7a2-4653-fcca-8678287871f1"
      },
      "execution_count": null,
      "outputs": [
        {
          "output_type": "stream",
          "name": "stdout",
          "text": [
            "320\n",
            "1 0 2\n"
          ]
        }
      ]
    },
    {
      "cell_type": "markdown",
      "source": [
        "# **13305번 주유소**\n"
      ],
      "metadata": {
        "id": "ZcqEBG2BShXH"
      }
    },
    {
      "cell_type": "code",
      "source": [
        "n = int(input())\n",
        "len_con = input().split()\n",
        "price_oil = input().split()\n",
        "\n",
        "len_con = list(map(int, len_con))\n",
        "price_oil = list(map(int, price_oil))\n",
        "\n",
        "c = price_oil[0]\n",
        "res =0\n",
        "\n",
        "for i in range(n-1):\n",
        "  if (c > price_oil[i]):\n",
        "    c = price_oil[i]\n",
        "  res += c * len_con[i]\n",
        "print(res)"
      ],
      "metadata": {
        "colab": {
          "base_uri": "https://localhost:8080/"
        },
        "id": "Wb7xtJZX_cox",
        "outputId": "86d95673-d95f-461d-8785-558d40a1a094"
      },
      "execution_count": null,
      "outputs": [
        {
          "output_type": "stream",
          "name": "stdout",
          "text": [
            "4\n",
            "3 3 4\n",
            "1 1 1 1\n",
            "10\n"
          ]
        }
      ]
    },
    {
      "cell_type": "markdown",
      "source": [
        "# **10610번 30**"
      ],
      "metadata": {
        "id": "bOzZu6mAS928"
      }
    },
    {
      "cell_type": "code",
      "source": [
        "n = input()\n",
        "sum_ = sum(list(map(int,n)))\n",
        "rst = 0 \n",
        "if (('0' not in n) or(sum_ % 3 != 0)):\n",
        "  rst=-1\n",
        "else:\n",
        "  n=list(n)\n",
        "  n.sort(reverse = True)\n",
        "  rst= int(\"\".join(n))\n",
        "print(rst)"
      ],
      "metadata": {
        "colab": {
          "base_uri": "https://localhost:8080/"
        },
        "id": "pFkAXtQSZ0kE",
        "outputId": "15035f02-bc71-4c33-dd2c-c9f17e41b4cd"
      },
      "execution_count": null,
      "outputs": [
        {
          "output_type": "stream",
          "name": "stdout",
          "text": [
            "-1\n"
          ]
        }
      ]
    },
    {
      "cell_type": "markdown",
      "source": [
        "# **1715번 카드 정렬하기**"
      ],
      "metadata": {
        "id": "UlGtMN95_xDQ"
      }
    },
    {
      "cell_type": "code",
      "source": [
        "import numpy as np\n",
        "n = int(input())\n",
        "card_list = [input() for _ in range(n)]\n",
        "card_list = list(map(int, card_list))\n",
        "card_list.sort()\n",
        "sum_card=[]\n",
        "sum_card.append(card_list[0])\n",
        "for i in range(1,n):\n",
        "  sum_card.append(sum_card[i-1] + card_list[i])\n",
        "print(np.sum(sum_card) - card_list[0])\n",
        "\n",
        "# 틀린 답\n"
      ],
      "metadata": {
        "colab": {
          "base_uri": "https://localhost:8080/"
        },
        "id": "QsIr4EeV_wct",
        "outputId": "6ba0310f-594b-4876-96cf-be12c12df6c6"
      },
      "execution_count": null,
      "outputs": [
        {
          "output_type": "stream",
          "name": "stdout",
          "text": [
            "5\n",
            "10\n",
            "10\n",
            "10\n",
            "10\n",
            "10\n",
            "140\n"
          ]
        }
      ]
    },
    {
      "cell_type": "markdown",
      "source": [
        "# **1463번 1로 만들기**"
      ],
      "metadata": {
        "id": "hmWwZth24ZQ7"
      }
    },
    {
      "cell_type": "code",
      "source": [
        "import time\n",
        "from datetime import timedelta\n",
        "start = time.process_time()\n",
        "x = int(input())\n",
        "pro=[]\n",
        "pre_pro = []\n",
        "pre_pro.append(x)\n",
        "trial=0\n",
        "while(1):\n",
        "  for j in range(len(pre_pro)):\n",
        "    cur = pre_pro[j]\n",
        "    if (cur % 3 ==0):\n",
        "      pro.append(cur // 3)\n",
        "      if(1 in pro):\n",
        "        break\n",
        "    if (cur % 2 ==0):\n",
        "      pro.append(cur // 2)\n",
        "      if(1 in pro):\n",
        "        break\n",
        "    pro.append(cur -1)\n",
        "  trial += 1\n",
        "  if(1 in pro):\n",
        "    break\n",
        "  pre_pro = pro\n",
        "  pro = []\n",
        "end = time.process_time()\n",
        "print(end - start)\n",
        "print(trial)\n",
        "# 틀린 방법\n"
      ],
      "metadata": {
        "colab": {
          "base_uri": "https://localhost:8080/"
        },
        "id": "E-iS0bgK4ffO",
        "outputId": "f0041e0a-4b9c-40e2-914a-e657755e1cd5"
      },
      "execution_count": null,
      "outputs": [
        {
          "output_type": "stream",
          "name": "stdout",
          "text": [
            "892381\n",
            "5.467321396000017\n",
            "18\n"
          ]
        }
      ]
    },
    {
      "cell_type": "code",
      "source": [
        "n = int(input())\n",
        "count = [0] * 1000001\n",
        "count[2]=1\n",
        "count[3] = 1\n",
        "\n",
        "for i in  range(2,n+1):\n",
        "  a = 1000000\n",
        "  if (i % 3 ==0):\n",
        "    a = count[i//3] +1\n",
        "  b = 1000000\n",
        "  if (i % 2==0):\n",
        "    b = count[i//2] +1\n",
        "  c = count[i-1] +1\n",
        "  count[i] = min(a,b,c)\n",
        "\n",
        "print(count[n])\n",
        "# 맞는 방법 (리스트에 각 숫자의 최소도달값 저장) (새로운 값 구할 때 이전의 값 이용)"
      ],
      "metadata": {
        "colab": {
          "base_uri": "https://localhost:8080/"
        },
        "id": "fr7WF8WS4gpT",
        "outputId": "224971d4-00cb-4532-ac1a-ca0d0ff818f7"
      },
      "execution_count": null,
      "outputs": [
        {
          "output_type": "stream",
          "name": "stdout",
          "text": [
            "11\n",
            "4\n"
          ]
        }
      ]
    },
    {
      "cell_type": "markdown",
      "source": [
        "# **2839번 설탕 배달**"
      ],
      "metadata": {
        "id": "TV01pjWKLASq"
      }
    },
    {
      "cell_type": "code",
      "source": [
        "n = int(input())\n",
        "prt=0\n",
        "while (n):\n",
        "  if n <3:\n",
        "    print('-1')\n",
        "    break\n",
        "  if n % 5 == 0:\n",
        "    prt += n // 5\n",
        "    n -= ((n//5)*5)\n",
        "    break\n",
        "  n -= 3\n",
        "  prt += 1\n",
        "if(n==0):\n",
        "  print(prt)"
      ],
      "metadata": {
        "id": "DD1YwYlC4g7k",
        "colab": {
          "base_uri": "https://localhost:8080/"
        },
        "outputId": "ce811711-4629-4f2f-b11b-254ba4a9bdb0"
      },
      "execution_count": null,
      "outputs": [
        {
          "output_type": "stream",
          "name": "stdout",
          "text": [
            "11\n",
            "3\n"
          ]
        }
      ]
    },
    {
      "cell_type": "markdown",
      "source": [
        "# **9095번: 1,2,3 더하기**"
      ],
      "metadata": {
        "id": "eML7USdSaXeK"
      }
    },
    {
      "cell_type": "code",
      "source": [
        "n = int(input())\n",
        "num_list=[]\n",
        "cnt = [0] * 10\n",
        "\n",
        "for _ in range(n):\n",
        "  num = int(input())\n",
        "  num_list.append(num)\n",
        "cnt[0] = 1\n",
        "cnt[1] = 2\n",
        "cnt[2] = 4\n",
        "for i in range(3,10):\n",
        "  cnt[i] = cnt[i-1] + cnt[i-2] + cnt[i-3]\n",
        "\n",
        "for i in range(n):\n",
        "  print(cnt[num_list[i]-1]) "
      ],
      "metadata": {
        "colab": {
          "base_uri": "https://localhost:8080/"
        },
        "id": "5C8sqhP4acCk",
        "outputId": "f86f3341-bbce-4ed4-e3c4-b65b1da4d5bf"
      },
      "execution_count": null,
      "outputs": [
        {
          "output_type": "stream",
          "name": "stdout",
          "text": [
            "3\n",
            "4\n",
            "7\n",
            "10\n",
            "7\n",
            "44\n",
            "274\n"
          ]
        }
      ]
    },
    {
      "cell_type": "markdown",
      "source": [
        "# **11726번: 2xn 타일링**"
      ],
      "metadata": {
        "id": "GJqa-hBFc0Un"
      }
    },
    {
      "cell_type": "code",
      "source": [
        "n =int(input())\n",
        "tile = [0]*1001\n",
        "tile[1] =1\n",
        "tile[2] = 2\n",
        "for i in range(3,1001):\n",
        "  tile[i] = tile[i-1] + tile[i-2]\n",
        "\n",
        "print(tile[n] % 10007)"
      ],
      "metadata": {
        "colab": {
          "base_uri": "https://localhost:8080/"
        },
        "id": "gfNvK8VRSKR_",
        "outputId": "a7de5bda-a423-4a46-d6ba-9be11fbb7a0b"
      },
      "execution_count": null,
      "outputs": [
        {
          "output_type": "stream",
          "name": "stdout",
          "text": [
            "6\n",
            "13\n"
          ]
        }
      ]
    },
    {
      "cell_type": "markdown",
      "source": [
        "# **1149번: RGB거리** 포기"
      ],
      "metadata": {
        "id": "2J_0l5X1WsGb"
      }
    },
    {
      "cell_type": "code",
      "source": [
        "import numpy as np\n",
        "n = int(input())\n",
        "rgb = []\n",
        "ind_list=[]\n",
        "cost = 0\n",
        "for i in  range(n):\n",
        "  list_ = list(map(int, input().split()))\n",
        "  rgb.append(list_)\n",
        "rgb = np.array(rgb)\n",
        "min_ind = 3\n",
        "for i in range(n):\n",
        "  if (min_ind != np.argmin(rgb[i])):\n",
        "    min_ind = np.argmin(rgb[i])\n",
        "    cost += rgb[i][min_ind]\n",
        "  else:\n",
        "    pre = rgb[i][np.argmin(rgb[i])]\n",
        "    rgb[i][np.argmin(rgb[i])] = 1000\n",
        "    if (pre+ )\n",
        "    min_ind = np.argmin(rgb[i]) \n",
        "    cost += rgb[i][min_ind]\n",
        "  ind_list.append(min_ind)\n",
        "  print(cost)\n",
        "\n",
        "print(cost) "
      ],
      "metadata": {
        "colab": {
          "base_uri": "https://localhost:8080/"
        },
        "id": "xOIzru2LWw2M",
        "outputId": "57d5a7ed-9054-4eec-cd1d-bb41c643de4b"
      },
      "execution_count": null,
      "outputs": [
        {
          "output_type": "stream",
          "name": "stdout",
          "text": [
            "3\n",
            "1 100 100\n",
            "100 100 100\n",
            "1 100 100\n",
            "1\n",
            "101\n",
            "102\n",
            "102\n"
          ]
        }
      ]
    },
    {
      "cell_type": "markdown",
      "source": [
        "# **2579번: 계단 오르기**"
      ],
      "metadata": {
        "id": "Dr5WVTPUZ_Hn"
      }
    },
    {
      "cell_type": "code",
      "source": [
        "n = int(input())\n",
        "sco = [int(input()) for _ in range(n)]\n",
        "stair = [0] *n\n",
        "if n <=2:\n",
        "  print(sum(sco))\n",
        "else:\n",
        "  stair[0] = sco[0]\n",
        "  stair[1] = sco[0] + sco[1]\n",
        "  for i in range(2,n):\n",
        "    stair[i]=max(stair[i-3] + sco[i-1]+sco[i], stair[i-2]+sco[i])\n",
        "  print(stair[-1])"
      ],
      "metadata": {
        "id": "jTUEMBezWxJp",
        "colab": {
          "base_uri": "https://localhost:8080/"
        },
        "outputId": "a0eb5ac8-bd0b-4345-c9bf-6475bb86048d"
      },
      "execution_count": null,
      "outputs": [
        {
          "output_type": "stream",
          "name": "stdout",
          "text": [
            "3\n",
            "10\n",
            "20\n",
            "30\n",
            "50\n"
          ]
        }
      ]
    },
    {
      "cell_type": "markdown",
      "source": [
        "# **11053: 가장 긴 증가하는 부분 수열**"
      ],
      "metadata": {
        "id": "2Bom1pbB_sMs"
      }
    },
    {
      "cell_type": "code",
      "source": [
        "n = int(input())\n",
        "seq = input().split()\n",
        "seq = list(map(int,seq))\n",
        "len_seq = [1]*n\n",
        "\n",
        "for i in range(1,n):\n",
        "  for j in range(i):\n",
        "    if (seq[i] > seq[j]):\n",
        "      len_seq[i] = max(len_seq[j] +1,len_seq[i])\n",
        "\n",
        "print(max(len_seq))"
      ],
      "metadata": {
        "colab": {
          "base_uri": "https://localhost:8080/"
        },
        "id": "v1a1ZaVK_xvk",
        "outputId": "1fc7738a-2594-435e-ea70-8dd2935a793a"
      },
      "execution_count": null,
      "outputs": [
        {
          "output_type": "stream",
          "name": "stdout",
          "text": [
            "6\n",
            "10 20 10 30 20 50\n",
            "4\n"
          ]
        }
      ]
    },
    {
      "cell_type": "markdown",
      "source": [
        "# **1010: 다리 놓기**"
      ],
      "metadata": {
        "id": "ht3RdUfixy0U"
      }
    },
    {
      "cell_type": "code",
      "source": [
        "import math\n",
        "n = int(input())\n",
        "bri =[]\n",
        "for i in range(n):\n",
        "  a,b = input().split()\n",
        "  a = int(a)\n",
        "  b=int(b)\n",
        "  pre = math.factorial(b) // (math.factorial(a) * math.factorial(b-a))\n",
        "  bri.append(pre)\n",
        "\n",
        "for i in range(len(bri)):\n",
        "  print(bri[i])"
      ],
      "metadata": {
        "colab": {
          "base_uri": "https://localhost:8080/"
        },
        "id": "wNo6DCtNx3L0",
        "outputId": "ac481117-f542-4d42-8962-4f95eb54077b"
      },
      "execution_count": null,
      "outputs": [
        {
          "output_type": "stream",
          "name": "stdout",
          "text": [
            "3\n",
            "2 2 \n",
            "1 5\n",
            "13 29\n",
            "1\n",
            "5\n",
            "67863915\n"
          ]
        }
      ]
    },
    {
      "cell_type": "markdown",
      "source": [
        "# **2193: 이친수**"
      ],
      "metadata": {
        "id": "DXfSt2AUFYzG"
      }
    },
    {
      "cell_type": "code",
      "source": [
        "n = int(input())\n",
        "bin = [0]*90\n",
        "bin[0] =1\n",
        "bin[1] =1\n",
        "for i in range(2,90):\n",
        "  bin[i] = bin[i-1] + bin[i-2]\n",
        "\n",
        "print(bin[n-1])"
      ],
      "metadata": {
        "colab": {
          "base_uri": "https://localhost:8080/"
        },
        "id": "5fQ-mBL7DSBb",
        "outputId": "5cba97e2-e9e5-48cd-c9e1-0b0cf818d24b"
      },
      "execution_count": null,
      "outputs": [
        {
          "output_type": "stream",
          "name": "stdout",
          "text": [
            "3\n",
            "2\n"
          ]
        }
      ]
    },
    {
      "cell_type": "markdown",
      "source": [
        "# **14501: 퇴사**"
      ],
      "metadata": {
        "id": "G7_cpLTX--Fs"
      }
    },
    {
      "cell_type": "code",
      "source": [
        "n =int(input())\n",
        "money=[]\n",
        "day=[]\n",
        "for i in range(n):\n",
        "  d,m = input().split()\n",
        "  day.append(int(d))\n",
        "  money.append(int(m))\n",
        "\n",
        "max_pro=[0]*16\n",
        "\n",
        "for i in range(n-1,-1,-1):\n",
        "  if day[i]+i > n:\n",
        "    max_pro[i] = max_pro[i+1]\n",
        "  else:\n",
        "    max_pro[i] = max(max_pro[i+1], money[i]+ max_pro[i+day[i]])\n",
        "\n",
        "print(max_pro[0])"
      ],
      "metadata": {
        "colab": {
          "base_uri": "https://localhost:8080/"
        },
        "id": "7RPas5HU_Bid",
        "outputId": "564ae232-b7ed-4fde-da99-48461571d248"
      },
      "execution_count": 5,
      "outputs": [
        {
          "output_type": "stream",
          "name": "stdout",
          "text": [
            "7\n",
            "3 10\n",
            "5 20\n",
            "1 10\n",
            "1 20\n",
            "2 15\n",
            "4 40\n",
            "2 200\n",
            "45\n"
          ]
        }
      ]
    }
  ]
}