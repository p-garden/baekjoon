{
  "nbformat": 4,
  "nbformat_minor": 0,
  "metadata": {
    "colab": {
      "provenance": [],
      "authorship_tag": "ABX9TyN72yWrBth1BpnPcBbrT9Wp",
      "include_colab_link": true
    },
    "kernelspec": {
      "name": "python3",
      "display_name": "Python 3"
    },
    "language_info": {
      "name": "python"
    }
  },
  "cells": [
    {
      "cell_type": "markdown",
      "metadata": {
        "id": "view-in-github",
        "colab_type": "text"
      },
      "source": [
        "<a href=\"https://colab.research.google.com/github/p-garden/baekjoon/blob/main/%EB%B0%95%EC%A0%95%EC%9B%90_2week_test.ipynb\" target=\"_parent\"><img src=\"https://colab.research.google.com/assets/colab-badge.svg\" alt=\"Open In Colab\"/></a>"
      ]
    },
    {
      "cell_type": "markdown",
      "source": [
        "# **이론 문제 1. O/X 퀴즈!**\n",
        "\n",
        "## 문제내용\n",
        "\n",
        "o/x 문제입니다. 맞는 문장에 O, 틀린 문장에 X를 해주세요. (틀린 문장은 올바르게 고쳐주세요!)\n",
        "\n",
        "1. 결정계수 R^2은 예측이 타깃의 평균정도로 예측할 때 1에 가까운 값이 된다. 또한, 결정계수(R^2)은 대표적인 회귀 문제의 성능 측정 도구로써, 1에 가까울수록 성능이 좋은 모델이다.\n",
        "\n",
        "1. multiple-regression은 독립변수가 두개이상 으로써, 이러한 여러 특성들을 조합하는 것을 특성공학이라고 하고, polynomial-regression은 독립변수가 하나를 가지고 있으며, polynomial-regression은 multiple-regression의 일종이라고 할 수 있다.\n",
        "\n",
        "1. 다음 그래프는 집값을 선형 회귀로 표현한 그래프이다.\n",
        "    \n",
        "    ![Linear Regression of Housing Prices with Various Model](https://s3-us-west-2.amazonaws.com/secure.notion-static.com/6929c2ef-e4af-4d26-a185-12980ed9405d/Untitled.png)\n",
        "    \n",
        "    Linear Regression of Housing Prices with Various Model\n",
        "    \n",
        "    왼쪽에서부터 순서대로 그래프 1, 2, 3이라고 할 때,\n",
        "    그래프 1 - Underfitting, 그래프 2 - Overfitting, 그래프 3 - Appropriate fitting 이라고 할 수 있다. \n",
        "    \n",
        "2. 규제는 언더피팅과 오버피팅을 방지할 수 있다.\n",
        "\n",
        "1. 사이킷런의 변환기에서는 훈련(fit)과 변환(transform)의 순서는 중요하지 않다. \n",
        "\n",
        "1. 선형회귀로 풀 수 있는 문제는 O, 풀 수 없는 문제는 X 표시해주세요.\n",
        "    \n",
        "    1) 침실 수, 위치 등의 특징을 바탕으로 주택 가격 예측\n",
        "    2) 기업의 광고비 지출과 매출액과의 관계 파악\n",
        "    3) 직원의 직무만족에 기여하는 요인의 파악\n",
        "    4) 구매 내역을 기준으로 고객이 동요할 가능성 예측\n",
        "    5) 픽셀 값을 기준으로 이미지를 다른 범주로 분류\n"
      ],
      "metadata": {
        "id": "N1SzItKYmIaW"
      }
    },
    {
      "cell_type": "markdown",
      "source": [
        "1. X / 평균정도로 예측하면 0에 가까워진다.\n",
        "2. O / polynomial-regression 하나의 독립변수의 차수를 높이는 다항 회귀이고,  multiple-refression은 여러개의 독립변수간의 상관관계를 찾는 다중 회귀이다.\n",
        "다항회귀는 다중회귀에 속한다.\n",
        "3.X / 1번 그래프는 underfitting 그래프가 맞지만,2번 그래프는 appropriate그래프이고 3번 그래프가 overfitting그래프이다.\n",
        "4. X / 규제는  훈련세트를 과도하게 학습하는 과대적합(오버피팅)을 방지한다.\n",
        "5. X / 변환기에서는 반드시 훈련을 시킨 후 변환이 가능하다.\n",
        "6. 1) O, 2) O, 3) O, 4) O, 5) X"
      ],
      "metadata": {
        "id": "XKmNX2Z8mdW0"
      }
    },
    {
      "cell_type": "markdown",
      "source": [
        "# **이론 문제 2. 오류 찾기 **"
      ],
      "metadata": {
        "id": "ZIcuAXN9uHHY"
      }
    },
    {
      "cell_type": "markdown",
      "source": [
        "## 문제내용\n",
        "\n",
        "다음 보기에 대해 옳지 않은 것을 모두 고르시오.\n",
        "\n",
        "```python\n",
        "list1 = [1, 2, 3, 4, 5]\n",
        "list2 = [[1], [2], [3], [4], [5]]\n",
        "\n",
        "array1 = np.array(list1)\n",
        "array2 = np.array(list2)\n",
        "```\n",
        "\n",
        "1. print(list1)과 print(array1) 한 값은 일치한다.\n",
        "2. array1 의 크기를 (5, 1) 이라고 표현한다.\n",
        "3. 사이킷 런의 train set로 적합한 형태는 array2이다.\n",
        "4. array3 = array1.reshape(1,5) 를 한다면 array1의 크기도 변경된다."
      ],
      "metadata": {
        "id": "RfCZd2rouOKy"
      }
    },
    {
      "cell_type": "markdown",
      "source": [
        "1. X / list는 ','를 기준으로 개체들을 나누지만 array는 스트레이트로 나타낸다\n",
        "2. X / (5)라고 표현\n",
        "3. O\n",
        "4. X / array3의 크기만 변경"
      ],
      "metadata": {
        "id": "GPLTLrdSuzCH"
      }
    },
    {
      "cell_type": "markdown",
      "source": [
        "# **실습문제 3**"
      ],
      "metadata": {
        "id": "M_zejRpy9A8l"
      }
    },
    {
      "cell_type": "markdown",
      "source": [
        "## 문제내용\n",
        "\n",
        "### 3번 문제 - 실습 문제\n",
        "\n",
        "혼공머 03-01에서는 K-최근접 이웃 회귀 알고리즘을 통해 농어의 무게를 예측하였다.\n",
        "\n",
        "이때, 이웃의 개수(k) 가 5일 때 훈련 세트보다 테스트 세트의 점수가 높게 나오는 **“과소적합” 문제**가 발생하였다.\n",
        "\n",
        "k의 값 1~10에 대한 [훈련 세트와 테스트 세트의 점수] 와 [MAE]를 다음과 같이 그래프로 표현해보자.\n",
        "\n",
        "(hint: page 128- 문제 #2)"
      ],
      "metadata": {
        "id": "BYVSrK8I9CQ9"
      }
    },
    {
      "cell_type": "code",
      "source": [
        "import numpy as np\n",
        "from sklearn.model_selection import train_test_split\n",
        "from sklearn.neighbors import KNeighborsRegressor\n",
        "import matplotlib.pyplot as plt\n",
        "from sklearn.metrics import mean_absolute_error\n",
        "\n",
        "\n",
        "# 농어 데이터\n",
        "perch_length = np.array([8.4, 13.7, 15.0, 16.2, 17.4, 18.0, 18.7, 19.0, 19.6, 20.0, 21.0,\n",
        "       21.0, 21.0, 21.3, 22.0, 22.0, 22.0, 22.0, 22.0, 22.5, 22.5, 22.7,\n",
        "       23.0, 23.5, 24.0, 24.0, 24.6, 25.0, 25.6, 26.5, 27.3, 27.5, 27.5,\n",
        "       27.5, 28.0, 28.7, 30.0, 32.8, 34.5, 35.0, 36.5, 36.0, 37.0, 37.0,\n",
        "       39.0, 39.0, 39.0, 40.0, 40.0, 40.0, 40.0, 42.0, 43.0, 43.0, 43.5,\n",
        "       44.0])\n",
        "perch_weight = np.array([5.9, 32.0, 40.0, 51.5, 70.0, 100.0, 78.0, 80.0, 85.0, 85.0, 110.0,\n",
        "       115.0, 125.0, 130.0, 120.0, 120.0, 130.0, 135.0, 110.0, 130.0,\n",
        "       150.0, 145.0, 150.0, 170.0, 225.0, 145.0, 188.0, 180.0, 197.0,\n",
        "       218.0, 300.0, 260.0, 265.0, 250.0, 250.0, 300.0, 320.0, 514.0,\n",
        "       556.0, 840.0, 685.0, 700.0, 700.0, 690.0, 900.0, 650.0, 820.0,\n",
        "       850.0, 900.0, 1015.0, 820.0, 1100.0, 1000.0, 1100.0, 1000.0,\n",
        "       1000.0])\n",
        "\n",
        "\n",
        "# 주어진 데이터를 train과 test로 분리한다.\n",
        "\n",
        "train_input, test_input, train_target, test_target = train_test_split(perch_length, perch_weight, random_state=42)\n",
        "\"\"\"\n",
        "여기에 코드를 작성해주세요.\n",
        "\"\"\"\n",
        "\n",
        "# input 배열의 크기를 2차원 배열로 재조정한다.\n",
        "train_input = train_input.reshape(-1,1)\n",
        "test_input = test_input.reshape(-1,1)\n",
        "\"\"\"\n",
        "여기에 코드를 작성해주세요.\n",
        "\"\"\"\n",
        "\n",
        "# KNN 회귀로 농어의 무게를 예측\n",
        "knr = KNeighborsRegressor()\n",
        "nlist = [1,2,3,4,5,6,7,8,9,10] # 이웃한 개수 list\n",
        "train_score = []\n",
        "test_score = []\n",
        "mae = []\n",
        "\n",
        "# 이웃한 개수 1~10 까지 train set과 test set의 점수 비교하기\n",
        "for n in range(1,11):\n",
        "  knr.n_neighbors = n\n",
        "  knr.fit(train_input, train_target)\n",
        "  \"\"\"\n",
        "  여기에 코드를 작성해주세요.\n",
        "  \"\"\"\n",
        "\n",
        "  # test set에 대한 예측값\n",
        "  test_prediction = knr.predict(test_input)\n",
        "\n",
        "  # test set에 대한 평균 절댓값 오차\n",
        "  mae.append(mean_absolute_error(test_target, test_prediction))\n",
        "  \"\"\"\n",
        "  여기에 코드를 작성해주세요.\n",
        "  \"\"\"\n",
        "\n",
        "  # train, test 점수\n",
        "  train_score.append(knr.score(train_input, train_target))\n",
        "  test_score.append(knr.score(test_input, test_target))\n",
        "  \"\"\"\n",
        "  여기에 코드를 작성해주세요.\n",
        "  \"\"\" \n",
        "\n",
        "# 훈련 세트와 테스트 세트 그래프 그리기\n",
        "plt.plot(nlist, train_score, marker = 'o')\n",
        "plt.plot(nlist, test_score, marker = '^')\n",
        "\"\"\"\n",
        "여기에 코드를 작성해주세요.\n",
        "\"\"\"\n",
        "\n",
        "plt.xlim((1,10))\n",
        "plt.xlabel(\"n_neighbors\")\n",
        "plt.ylabel(\"score\")\n",
        "plt.show()\n",
        "\n",
        "# MAE 그래프 그리기\n",
        "plt.plot(nlist, mae, marker='o')\n",
        "\"\"\"\n",
        "여기에 코드를 작성해주세요.\n",
        "\"\"\"\n",
        "plt.xlim((1,10))\n",
        "plt.xlabel(\"n_neighbors\")\n",
        "plt.ylabel(\"MAE\")\n",
        "plt.show()"
      ],
      "metadata": {
        "colab": {
          "base_uri": "https://localhost:8080/",
          "height": 545
        },
        "id": "gJDYdr1HmZtm",
        "outputId": "25b7f206-4e62-484f-f41c-bbf1c548ace6"
      },
      "execution_count": null,
      "outputs": [
        {
          "output_type": "display_data",
          "data": {
            "text/plain": [
              "<Figure size 432x288 with 1 Axes>"
            ],
            "image/png": "[encoded data removed]"
          },
          "metadata": {
            "needs_background": "light"
          }
        },
        {
          "output_type": "display_data",
          "data": {
            "text/plain": [
              "<Figure size 432x288 with 1 Axes>"
            ],
            "image/png": "[encoded data removed]"
          },
          "metadata": {
            "needs_background": "light"
          }
        }
      ]
    },
    {
      "cell_type": "markdown",
      "source": [
        "# **실습문제 4&5**"
      ],
      "metadata": {
        "id": "6ojNcu6kB_QG"
      }
    },
    {
      "cell_type": "markdown",
      "source": [
        "## 문제내용\n",
        "\n",
        "**1주차 실습 문제에서 사용한 fish_csv의 FISH_DATA를 이용한 Weight을 예측하는 문제입니다.(Multiple Regression,Ridge Regression 활용)**\n",
        "\n",
        "- 1주차에서 사용한 fish.csv의 데이터를 이용해서 릿지계수의 최적화된 알파값을 찾는 문제입니다!\n",
        "- '#' 옆에 있는 코드를 채우면 되는 문제입니다.\n",
        "\n",
        "### -실습 4번 문제\n",
        "\n",
        "**1단계:'fish_data와 weight 데이터 추출하기**\n",
        "\n",
        "**2단계:fish_data,fish_Weight을 활용한 multipleRegression**\n",
        "\n",
        "### -실습 5번 문제\n",
        "\n",
        "**3단계: 정규화와와 릿지 회귀**"
      ],
      "metadata": {
        "id": "dMs6U_olCEpO"
      }
    },
    {
      "cell_type": "markdown",
      "source": [
        "# -문제 4\n",
        "\n",
        "1단계: 'fish_data와 weight 데이터 추출하기'\n",
        "\n",
        "1주차에서 사용했던 fish_csv를 이용해서 fish_data와 weight을 추출 해봅시다!"
      ],
      "metadata": {
        "id": "uBGyjDx_CVQf"
      }
    },
    {
      "cell_type": "code",
      "source": [
        "from google.colab import drive\n",
        "import pandas as pd\n",
        "import numpy as np\n",
        "drive.mount('/content/drive')\n",
        "data_path = '/content/sample_data/Fish .csv'\n",
        "df = pd.read_csv(data_path)\n",
        "## data에 'Length1','Length2','Length3','Height','Width' 정보를 추출\n",
        "fish_data= np.array(df[['Length1', 'Length2', 'Length3', 'Height', 'Width']])\n",
        "## target으로 weight을 추출.\n",
        "fish_weight= np.array(df[['Weight']])"
      ],
      "metadata": {
        "colab": {
          "base_uri": "https://localhost:8080/"
        },
        "id": "_VIOqS-WCc7l",
        "outputId": "bf9d54db-7161-435b-a998-5740ed7b2da1"
      },
      "execution_count": null,
      "outputs": [
        {
          "output_type": "stream",
          "name": "stdout",
          "text": [
            "Drive already mounted at /content/drive; to attempt to forcibly remount, call drive.mount(\"/content/drive\", force_remount=True).\n"
          ]
        }
      ]
    },
    {
      "cell_type": "markdown",
      "source": [
        "2단계: fish_data,fish_Weight을 활용한 multipleRegression"
      ],
      "metadata": {
        "id": "YYGcEPsaD5Aq"
      }
    },
    {
      "cell_type": "code",
      "source": [
        "from sklearn.model_selection import  train_test_split\n",
        "from sklearn.preprocessing import PolynomialFeatures\n",
        "from sklearn.linear_model import LinearRegression\n",
        "train_input,test_input,train_target,test_target=train_test_split(fish_data,fish_weight,random_state=42)\n",
        "##degree1,2,3중 가장 훈련세트에 대해서 점수가 높은 degree를 구해서 훈련시키고 점수를 구하는 코드를 완성!\n",
        "#(include_bias=False를 포함 시켜야함)\n",
        "poly= PolynomialFeatures(include_bias=False) #\n",
        "poly.fit(train_input) #\n",
        "train_poly=poly.transform(train_input) #\n",
        "test_poly=poly.transform(test_input) #\n",
        "lr=LinearRegression()\n",
        "lr.fit(train_poly, train_target) #\n",
        "print(lr.score(train_poly,train_target))\n",
        "print(lr.score(test_poly,test_target))"
      ],
      "metadata": {
        "colab": {
          "base_uri": "https://localhost:8080/"
        },
        "id": "o1wkELrXEKiG",
        "outputId": "59496f41-2950-46bd-cb25-24b66dfa91ba"
      },
      "execution_count": null,
      "outputs": [
        {
          "output_type": "stream",
          "name": "stdout",
          "text": [
            "0.9855363403643641\n",
            "0.9682828269737904\n"
          ]
        }
      ]
    },
    {
      "cell_type": "markdown",
      "source": [
        "# **-문제5**\n",
        "3단계: 정규화와와 릿지 회귀"
      ],
      "metadata": {
        "id": "WPNM79pOGpk_"
      }
    },
    {
      "cell_type": "code",
      "source": [
        "import numpy as np\n",
        "from sklearn.preprocessing import StandardScaler\n",
        "from sklearn.linear_model import Ridge\n",
        "import matplotlib.pyplot as plt\n",
        "###degree 5일 때는 테스트 세트 점수가 음수임.->이 때의 문제점을 릿지 회귀로 해결.\n",
        "poly=PolynomialFeatures(degree=5,include_bias=False)\n",
        "poly.fit(train_input)\n",
        "train_poly=poly.transform(train_input)\n",
        "test_poly=poly.transform(test_input)\n",
        "###정규화를 먼저 진행.\n",
        "ss=StandardScaler()\n",
        "ss.fit(train_poly)\n",
        "train_scaled=ss.transform(train_poly)\n",
        "test_scaled=ss.transform(test_poly)\n",
        "ridge=Ridge()\n",
        "ridge.fit(train_scaled, train_target) #\n",
        "print(ridge.score(train_scaled,train_target))\n",
        "print(ridge.score(test_scaled,test_target))\n",
        "train_score=[]\n",
        "test_score=[]\n",
        "##가장 최적화된 alpha계수를 구하고, 이 계수를 적용하여, 점수를 출력.\n",
        "alpha_list=[0.0001,0.001,0.01,0.1,1,10,100,1000]\n",
        "for alpha in alpha_list:\n",
        "  ridge=Ridge(alpha=alpha)\n",
        "  ridge.fit(train_scaled,train_target)\n",
        "  train_score.append(ridge.score(train_scaled,train_target))\n",
        "  test_score.append(ridge.score(test_scaled,test_target))\n",
        "plt.plot(np.log10(alpha_list),train_score, marker = '^')\n",
        "plt.plot(np.log10(alpha_list),test_score, marker = 'o')\n",
        "plt.xlabel('alpha')\n",
        "plt.ylabel('R**2')\n",
        "plt.show()\n",
        "ridge=Ridge(alpha=0.01) #\n",
        "ridge.fit(train_scaled, train_target) #\n",
        "print(ridge.score(train_scaled,train_target))\n",
        "print(ridge.score(test_scaled,test_target))"
      ],
      "metadata": {
        "colab": {
          "base_uri": "https://localhost:8080/",
          "height": 351
        },
        "id": "E326XnTrGs37",
        "outputId": "dad50df8-6a33-4dc7-9fac-3db1af589fb0"
      },
      "execution_count": null,
      "outputs": [
        {
          "output_type": "stream",
          "name": "stdout",
          "text": [
            "0.9889315122774638\n",
            "0.9723714130285396\n"
          ]
        },
        {
          "output_type": "display_data",
          "data": {
            "text/plain": [
              "<Figure size 432x288 with 1 Axes>"
            ],
            "image/png": "[encoded data removed]"
          },
          "metadata": {
            "needs_background": "light"
          }
        },
        {
          "output_type": "stream",
          "name": "stdout",
          "text": [
            "0.991301236332326\n",
            "0.9775720365579663\n"
          ]
        }
      ]
    }
  ]
}